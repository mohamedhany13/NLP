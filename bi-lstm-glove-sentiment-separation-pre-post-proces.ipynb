{
 "cells": [
  {
   "cell_type": "code",
   "execution_count": 1,
   "metadata": {
    "_cell_guid": "b1076dfc-b9ad-4769-8c92-a6c4dae69d19",
    "_uuid": "8f2839f25d086af736a60e9eeb907d3b93b6e0e5"
   },
   "outputs": [
    {
     "name": "stderr",
     "output_type": "stream",
     "text": [
      "Using TensorFlow backend.\n"
     ]
    }
   ],
   "source": [
    "import sys, os, re, csv, codecs, numpy as np, pandas as pd\n",
    "import matplotlib.pyplot as plt\n",
    "%matplotlib inline\n",
    "from tensorflow.keras import *\n",
    "from tensorflow.keras.layers import *\n",
    "from keras.preprocessing.text import Tokenizer\n",
    "from keras.preprocessing.sequence import pad_sequences\n",
    "from keras.layers import Dense, Input, LSTM, Embedding, Dropout, Activation\n",
    "from keras.layers import Bidirectional, GlobalMaxPool1D\n",
    "from keras.models import Model\n",
    "from keras import initializers, regularizers, constraints, optimizers, layers,losses\n",
    "from keras.utils import to_categorical\n",
    "import keras.backend as kb\n",
    "from nltk.corpus import words\n",
    "import random as rand\n",
    "import spacy\n",
    "import re\n",
    "from tqdm import tqdm\n",
    "import scipy.stats as ss\n",
    "import seaborn as sns"
   ]
  },
  {
   "cell_type": "code",
   "execution_count": 2,
   "metadata": {
    "_cell_guid": "79c7e3d0-c299-4dcb-8224-4455121ee9b0",
    "_uuid": "d629ff2d2480ee46fbb7e2d37f6b5fab8052498a"
   },
   "outputs": [],
   "source": [
    "train = pd.read_csv('../input/tweet-sentiment-extraction/train.csv')\n",
    "test = pd.read_csv('../input/tweet-sentiment-extraction/test.csv')\n",
    "\n",
    "#test data frame doens't have a selected text column, so it's created to be later filled\n",
    "test[\"selected_text\"]=\"\""
   ]
  },
  {
   "cell_type": "code",
   "execution_count": 3,
   "metadata": {},
   "outputs": [
    {
     "data": {
      "text/html": [
       "<div>\n",
       "<style scoped>\n",
       "    .dataframe tbody tr th:only-of-type {\n",
       "        vertical-align: middle;\n",
       "    }\n",
       "\n",
       "    .dataframe tbody tr th {\n",
       "        vertical-align: top;\n",
       "    }\n",
       "\n",
       "    .dataframe thead th {\n",
       "        text-align: right;\n",
       "    }\n",
       "</style>\n",
       "<table border=\"1\" class=\"dataframe\">\n",
       "  <thead>\n",
       "    <tr style=\"text-align: right;\">\n",
       "      <th></th>\n",
       "      <th>textID</th>\n",
       "      <th>text</th>\n",
       "      <th>selected_text</th>\n",
       "      <th>sentiment</th>\n",
       "    </tr>\n",
       "  </thead>\n",
       "  <tbody>\n",
       "    <tr>\n",
       "      <th>15304</th>\n",
       "      <td>2d6e96cb85</td>\n",
       "      <td>No more Wiffleball..  ****.</td>\n",
       "      <td>****.</td>\n",
       "      <td>negative</td>\n",
       "    </tr>\n",
       "    <tr>\n",
       "      <th>5118</th>\n",
       "      <td>b2ca6221e6</td>\n",
       "      <td>Doing really well! I will stay here as long a...</td>\n",
       "      <td>Doing really well!</td>\n",
       "      <td>positive</td>\n",
       "    </tr>\n",
       "    <tr>\n",
       "      <th>9057</th>\n",
       "      <td>f40b6c405c</td>\n",
       "      <td>doesn`t wanna get dressed up and be an adult t...</td>\n",
       "      <td>doesn`t wanna get dressed up an</td>\n",
       "      <td>negative</td>\n",
       "    </tr>\n",
       "    <tr>\n",
       "      <th>873</th>\n",
       "      <td>2554631fd6</td>\n",
       "      <td>_beery Yeah little rough this morning but more...</td>\n",
       "      <td>rough</td>\n",
       "      <td>negative</td>\n",
       "    </tr>\n",
       "    <tr>\n",
       "      <th>18676</th>\n",
       "      <td>257010ac59</td>\n",
       "      <td>Work around the house  boo</td>\n",
       "      <td>boo</td>\n",
       "      <td>negative</td>\n",
       "    </tr>\n",
       "  </tbody>\n",
       "</table>\n",
       "</div>"
      ],
      "text/plain": [
       "           textID                                               text  \\\n",
       "15304  2d6e96cb85                        No more Wiffleball..  ****.   \n",
       "5118   b2ca6221e6   Doing really well! I will stay here as long a...   \n",
       "9057   f40b6c405c  doesn`t wanna get dressed up and be an adult t...   \n",
       "873    2554631fd6  _beery Yeah little rough this morning but more...   \n",
       "18676  257010ac59                         Work around the house  boo   \n",
       "\n",
       "                         selected_text sentiment  \n",
       "15304                            ****.  negative  \n",
       "5118                Doing really well!  positive  \n",
       "9057   doesn`t wanna get dressed up an  negative  \n",
       "873                              rough  negative  \n",
       "18676                              boo  negative  "
      ]
     },
     "execution_count": 3,
     "metadata": {},
     "output_type": "execute_result"
    }
   ],
   "source": [
    "train.sample(5)"
   ]
  },
  {
   "cell_type": "markdown",
   "execution_count": null,
   "metadata": {},
   "source": [
    "# We will do some EDA to get further insight about our data"
   ]
  },
  {
   "cell_type": "code",
   "execution_count": 4,
   "metadata": {},
   "outputs": [
    {
     "name": "stdout",
     "output_type": "stream",
     "text": [
      "ratio of each sentiment relative to total number of tweets:\n",
      "train data:\n",
      " neutral     0.404570\n",
      "positive    0.312288\n",
      "negative    0.283141\n",
      "Name: sentiment, dtype: float64\n",
      "test data:\n",
      " neutral     0.404641\n",
      "positive    0.312111\n",
      "negative    0.283248\n",
      "Name: sentiment, dtype: float64\n"
     ]
    }
   ],
   "source": [
    "print(\"ratio of each sentiment relative to total number of tweets:\")\n",
    "train_relative_count=train.sentiment.value_counts(normalize=True)\n",
    "test_relative_count=test.sentiment.value_counts(normalize=True)\n",
    "print(\"train data:\\n\",train_relative_count)\n",
    "print(\"test data:\\n\",test_relative_count)"
   ]
  },
  {
   "cell_type": "code",
   "execution_count": 5,
   "metadata": {},
   "outputs": [],
   "source": [
    "def get_jaccard(sentiment_data):\n",
    "    jaccard_list=[]\n",
    "    for i in sentiment_data.index:\n",
    "        text_set=set(sentiment_data.text[i].split())\n",
    "        selected_set=set(sentiment_data.selected_text[i].split())\n",
    "        intersection=text_set.intersection(selected_set)\n",
    "        jaccard= float(len(intersection)/(len(text_set)+len(selected_set)-len(intersection)))\n",
    "        jaccard_list.append(jaccard)\n",
    "    \n",
    "    average_jaccard=sum(jaccard_list)/len(jaccard_list)\n",
    "    return average_jaccard"
   ]
  },
  {
   "cell_type": "code",
   "execution_count": 6,
   "metadata": {},
   "outputs": [],
   "source": [
    "def sentiment_split(data):\n",
    "    \n",
    "    data_copy=data.copy()\n",
    "    \n",
    "    neutral_tweets=data_copy[data_copy[\"sentiment\"]==\"neutral\"]\n",
    "    neutral_tweets=neutral_tweets.copy()\n",
    "    \n",
    "    positive_tweets=data_copy[data_copy.sentiment==\"positive\"]\n",
    "    positive_tweets=positive_tweets.copy()\n",
    "    \n",
    "    negative_tweets=data_copy[data_copy.sentiment==\"negative\"]\n",
    "    negative_tweets=negative_tweets.copy()\n",
    "\n",
    "    return neutral_tweets,positive_tweets,negative_tweets"
   ]
  },
  {
   "cell_type": "code",
   "execution_count": 7,
   "metadata": {},
   "outputs": [
    {
     "name": "stdout",
     "output_type": "stream",
     "text": [
      "neutral     0.404549\n",
      "positive    0.312300\n",
      "negative    0.283151\n",
      "Name: sentiment, dtype: float64\n"
     ]
    }
   ],
   "source": [
    "train_copy=train.copy()\n",
    "train_copy.dropna(axis=0, how=\"any\", inplace=True)\n",
    "train_copy.reset_index(inplace=True)\n",
    "print(train_copy.sentiment.value_counts(normalize=True))"
   ]
  },
  {
   "cell_type": "markdown",
   "execution_count": null,
   "metadata": {},
   "source": [
    "# We will check if there are rows in which selected text is not part of the text and try to fix it (we will correct misspelled words in selected text)"
   ]
  },
  {
   "cell_type": "code",
   "execution_count": 8,
   "metadata": {},
   "outputs": [],
   "source": [
    "def split_word(word): \n",
    "    return [char for char in word] \n",
    "\n",
    "def get_jaccard_word(word1,word2):\n",
    "    word1_char=split_word(word1)\n",
    "    word2_char=split_word(word2)\n",
    "    set1=set(word1_char)\n",
    "    set2=set(word2_char)\n",
    "    intersection=set1.intersection(set2)\n",
    "    jaccard_score=len(intersection)/(len(set1)+len(set2)-len(intersection))\n",
    "    return jaccard_score"
   ]
  },
  {
   "cell_type": "code",
   "execution_count": 9,
   "metadata": {},
   "outputs": [],
   "source": [
    "def get_index_word_in_string(word,text_split):\n",
    "    word_index=[]\n",
    "    for i in range(len(text_split)):\n",
    "        split_word=re.sub(\" \",\"\",text_split[i])\n",
    "        if word==split_word:\n",
    "            word_index.append(i)\n",
    "    if len(word_index)==0:\n",
    "        word_index=-1\n",
    "    return word_index"
   ]
  },
  {
   "cell_type": "code",
   "execution_count": 10,
   "metadata": {},
   "outputs": [
    {
     "name": "stderr",
     "output_type": "stream",
     "text": [
      "  0%|          | 0/27480 [00:00<?, ?it/s]/opt/conda/lib/python3.7/site-packages/ipykernel_launcher.py:30: SettingWithCopyWarning: \n",
      "A value is trying to be set on a copy of a slice from a DataFrame\n",
      "\n",
      "See the caveats in the documentation: https://pandas.pydata.org/pandas-docs/stable/user_guide/indexing.html#returning-a-view-versus-a-copy\n",
      "100%|██████████| 27480/27480 [00:16<00:00, 1653.21it/s]"
     ]
    },
    {
     "name": "stdout",
     "output_type": "stream",
     "text": [
      "number of rows in which mismatch between text and selected text was found:  2905\n"
     ]
    },
    {
     "name": "stderr",
     "output_type": "stream",
     "text": [
      "\n"
     ]
    }
   ],
   "source": [
    "selected_text_mismatch=0\n",
    "mismatched_rows=[]\n",
    "for i in tqdm(train_copy.index):\n",
    "    mismatch=0\n",
    "    text_split=train_copy.text[i].split()\n",
    "    selected_split=train_copy.selected_text[i].split()    \n",
    "    correct_selected_text=[]\n",
    "    for word in selected_split:  \n",
    "        \n",
    "        word_match=get_index_word_in_string(word,text_split)\n",
    "#        match=0\n",
    "#        for j in range(len(text_split)):\n",
    "#            if word==text_split[j]:\n",
    "#                match=1\n",
    "#                break\n",
    "                \n",
    "        if word_match!=-1:\n",
    "            correct_selected_text.append(word)\n",
    "            continue\n",
    "        if word_match==-1:\n",
    "            mismatch=1\n",
    "            jaccard_scores=np.zeros(len(text_split))\n",
    "            for k in range(len(text_split)):\n",
    "                jaccard_scores[k]=get_jaccard_word(word,text_split[k])\n",
    "                \n",
    "            correct_word_index=np.argmax(jaccard_scores)\n",
    "            correct_word=text_split[correct_word_index]\n",
    "            correct_selected_text.append(correct_word)\n",
    "            \n",
    "    train_copy.selected_text[i]=\" \".join(correct_selected_text)\n",
    "    if mismatch==1:\n",
    "        selected_text_mismatch=selected_text_mismatch+1\n",
    "        mismatched_rows.append(i)\n",
    "\n",
    "print(\"number of rows in which mismatch between text and selected text was found: \",selected_text_mismatch)"
   ]
  },
  {
   "cell_type": "code",
   "execution_count": 11,
   "metadata": {},
   "outputs": [
    {
     "name": "stdout",
     "output_type": "stream",
     "text": [
      "jaccard score between text and selected text:\n",
      "neutral sentiments jaccard score:  0.9814787965741442\n",
      "positive sentiments jaccard score:  0.33271248271474424\n",
      "negative sentiments jaccard score:  0.3561183376209603\n"
     ]
    }
   ],
   "source": [
    "neutral_tweets,positive_tweets,negative_tweets=sentiment_split(train_copy)\n",
    "\n",
    "print(\"jaccard score between text and selected text:\")\n",
    "#sentiment jaccard score\n",
    "neutral_jaccard=get_jaccard(neutral_tweets)\n",
    "print(\"neutral sentiments jaccard score: \",neutral_jaccard)\n",
    "positive_jaccard=get_jaccard(positive_tweets)\n",
    "print(\"positive sentiments jaccard score: \",positive_jaccard)\n",
    "negative_jaccard=get_jaccard(negative_tweets)\n",
    "print(\"negative sentiments jaccard score: \",negative_jaccard)"
   ]
  },
  {
   "cell_type": "markdown",
   "execution_count": null,
   "metadata": {},
   "source": [
    "# neutral tweets have a jaccard score of approximately 1, so they don't really need a model to train. We could just use the text as the selected text"
   ]
  },
  {
   "cell_type": "code",
   "execution_count": 12,
   "metadata": {},
   "outputs": [],
   "source": [
    "#split test data\n",
    "neutral_tweets_test,positive_tweets_test,negative_tweets_test=sentiment_split(test)"
   ]
  },
  {
   "cell_type": "markdown",
   "execution_count": null,
   "metadata": {},
   "source": [
    "# we will remove any special characters in our data to be able to better train it."
   ]
  },
  {
   "cell_type": "code",
   "execution_count": 13,
   "metadata": {},
   "outputs": [],
   "source": [
    "def remove_special_characters(str1):\n",
    "    '''\n",
    "    Takes a string, removes(substituted by \"\") all special characters and URLS and returns it.\n",
    "    '''\n",
    "    url_pattern = 'http[s]?://(?:[a-zA-Z]|[0-9]|[$-_@.&+]|[!*\\(\\),]|(?:%[0-9a-fA-F][0-9a-fA-F]))+'\n",
    "    # Remove URLs with re.sub(pattern, replacement, string)\n",
    "    cache = re.sub(url_pattern, ' ', str(str1))  \n",
    "    # Removing spec. characters\n",
    "    \n",
    "    character_pattern = '\\||\\,|\\;|\\.|\\:|\\#|\\*|\\~|\\+|\\-|\\/|\\_|\\?|\\!|\\\"|\\'|\\`|\\(|\\)|\\=|\\&|\\%|\\$|\\§' \n",
    "    split_text=str(cache).split()\n",
    "    filtered_text=[]\n",
    "    for i in range(len(split_text)):\n",
    "        contains_alphabet=re.search('[a-zA-Z]', split_text[i])\n",
    "        # doing this step keeps separate symbols\n",
    "        if contains_alphabet is not None:\n",
    "            filtered_text.append(str(re.sub(character_pattern, ' ', split_text[i])))\n",
    "        else:\n",
    "            filtered_text.append(split_text[i])\n",
    "    \n",
    "    filtered_text=\" \".join(filtered_text)\n",
    "    \n",
    "    #doing this step removes spaces from words\n",
    "    output_text=filtered_text.split()\n",
    "    for i in range(len(output_text)):\n",
    "        output_text[i]=re.sub(\" \",\"\",output_text[i])\n",
    "        \n",
    "    output=\" \".join(output_text)\n",
    "#    return re.sub(character_pattern, ' ', str(cache))\n",
    "    return str(output)"
   ]
  },
  {
   "cell_type": "code",
   "execution_count": 14,
   "metadata": {},
   "outputs": [],
   "source": [
    "def check_empty_string(data):\n",
    "    text_counter=0\n",
    "    selected_text_counter=0\n",
    "    for i in data.index:\n",
    "        if \"clean_text\" in data:\n",
    "            if len(data.clean_text[i].split())==0:\n",
    "                text_counter=text_counter+1\n",
    "        if \"clean_selected\" in data:\n",
    "            if len(data.clean_selected[i].split())==0:\n",
    "                selected_text_counter=selected_text_counter+1   \n",
    "                \n",
    "    print(\"null clean text: \", text_counter)\n",
    "    if \"clean_selected\" in data:\n",
    "        print(\"null selected clean text: \", selected_text_counter)\n",
    "    return"
   ]
  },
  {
   "cell_type": "code",
   "execution_count": 15,
   "metadata": {},
   "outputs": [
    {
     "name": "stdout",
     "output_type": "stream",
     "text": [
      "positive tweets:\n",
      "null clean text:  0\n",
      "null selected clean text:  0\n",
      "negative tweets:\n",
      "null clean text:  0\n",
      "null selected clean text:  0\n",
      "test positive tweets:\n",
      "null clean text:  0\n",
      "test negative tweets:\n",
      "null clean text:  0\n"
     ]
    }
   ],
   "source": [
    "positive_tweets['clean_text'] = positive_tweets['text'].str.lower().apply(remove_special_characters)\n",
    "positive_tweets['clean_selected'] = positive_tweets['selected_text'].str.lower().apply(remove_special_characters)\n",
    "print(\"positive tweets:\")\n",
    "check_empty_string(positive_tweets)\n",
    "\n",
    "negative_tweets['clean_text'] = negative_tweets['text'].str.lower().apply(remove_special_characters)\n",
    "negative_tweets['clean_selected'] = negative_tweets['selected_text'].str.lower().apply(remove_special_characters)\n",
    "print(\"negative tweets:\")\n",
    "check_empty_string(negative_tweets)\n",
    "\n",
    "positive_tweets_test['clean_text'] = positive_tweets_test['text'].str.lower().apply(remove_special_characters)\n",
    "print(\"test positive tweets:\")\n",
    "check_empty_string(positive_tweets_test)\n",
    "\n",
    "negative_tweets_test['clean_text'] = negative_tweets_test['text'].str.lower().apply(remove_special_characters)\n",
    "print(\"test negative tweets:\")\n",
    "check_empty_string(negative_tweets_test)"
   ]
  },
  {
   "cell_type": "markdown",
   "execution_count": null,
   "metadata": {},
   "source": [
    "# In this next step, we plot histograms for the tweets in order to decide the value of the length of text input to the neural network"
   ]
  },
  {
   "cell_type": "code",
   "execution_count": 16,
   "metadata": {},
   "outputs": [
    {
     "data": {
      "image/png": "[encoded data removed]",
      "text/plain": [
       "<Figure size 432x288 with 1 Axes>"
      ]
     },
     "metadata": {
      "needs_background": "light"
     },
     "output_type": "display_data"
    },
    {
     "data": {
      "image/png": "[encoded data removed]",
      "text/plain": [
       "<Figure size 432x288 with 1 Axes>"
      ]
     },
     "metadata": {
      "needs_background": "light"
     },
     "output_type": "display_data"
    },
    {
     "data": {
      "image/png": "[encoded data removed]",
      "text/plain": [
       "<Figure size 432x288 with 1 Axes>"
      ]
     },
     "metadata": {
      "needs_background": "light"
     },
     "output_type": "display_data"
    },
    {
     "data": {
      "image/png": "[encoded data removed]",
      "text/plain": [
       "<Figure size 432x288 with 1 Axes>"
      ]
     },
     "metadata": {
      "needs_background": "light"
     },
     "output_type": "display_data"
    }
   ],
   "source": [
    "totalNumWords = [len(positive_tweets['clean_text'][index].split()) for index in positive_tweets.index]\n",
    "plt.hist(totalNumWords,bins = np.arange(0,35,1))\n",
    "plt.title('positive tweets')\n",
    "plt.xlabel('length of tweet')\n",
    "plt.ylabel('number of tweets')\n",
    "plt.show()\n",
    "\n",
    "totalNumWords = [len(negative_tweets['clean_text'][index].split()) for index in negative_tweets.index]\n",
    "plt.hist(totalNumWords,bins = np.arange(0,35,1))\n",
    "plt.title('negative tweets')\n",
    "plt.xlabel('length of tweet')\n",
    "plt.ylabel('number of tweets')\n",
    "plt.show()\n",
    "\n",
    "totalNumWords = [len(positive_tweets_test['clean_text'][index].split()) for index in positive_tweets_test.index]\n",
    "plt.hist(totalNumWords,bins = np.arange(0,35,1))\n",
    "plt.title('test positive tweets')\n",
    "plt.xlabel('length of tweet')\n",
    "plt.ylabel('number of tweets')\n",
    "plt.show()\n",
    "\n",
    "totalNumWords = [len(negative_tweets_test['clean_text'][index].split()) for index in negative_tweets_test.index]\n",
    "plt.hist(totalNumWords,bins = np.arange(0,35,1))\n",
    "plt.title('test negative tweets')\n",
    "plt.xlabel('length of tweet')\n",
    "plt.ylabel('number of tweets')\n",
    "plt.show()"
   ]
  },
  {
   "cell_type": "markdown",
   "execution_count": null,
   "metadata": {},
   "source": [
    "# instead of using a dictionary for nltk or spacy, we used the text from the training set and test set to make the dictionary"
   ]
  },
  {
   "cell_type": "code",
   "execution_count": 17,
   "metadata": {},
   "outputs": [
    {
     "name": "stderr",
     "output_type": "stream",
     "text": [
      "100%|██████████| 34830/34830 [00:01<00:00, 28157.94it/s]\n"
     ]
    }
   ],
   "source": [
    "t1=pd.DataFrame({'A': positive_tweets.clean_text})\n",
    "t2=pd.DataFrame({'A': positive_tweets.clean_selected})\n",
    "\n",
    "t3=pd.DataFrame({'A': negative_tweets.clean_text})\n",
    "t4=pd.DataFrame({'A': negative_tweets.clean_selected})\n",
    "\n",
    "t5=pd.DataFrame({'A': positive_tweets_test.clean_text})\n",
    "t6=pd.DataFrame({'A': negative_tweets_test.clean_text})\n",
    "\n",
    "all_text_tokens=pd.concat([t1,t2,t3,t4,t5,t6],axis=0)\n",
    "all_text_tokens.reset_index(inplace=True)\n",
    "\n",
    "tokens_set=set()\n",
    "for i in tqdm(all_text_tokens.index):\n",
    "    tokens_set.update(all_text_tokens.A[i].split())\n"
   ]
  },
  {
   "cell_type": "code",
   "execution_count": 18,
   "metadata": {},
   "outputs": [],
   "source": [
    "# converting text into numerical tokens\n",
    "\n",
    "max_word_dict = len(tokens_set)\n",
    "\n",
    "tokenizer = Tokenizer(num_words=max_word_dict, lower=True, oov_token=\"<UKN>\",filters='')\n",
    "tokenizer.fit_on_texts(tokens_set)\n",
    "\n",
    "vocab_size=len(tokenizer.word_index)+1\n",
    "\n",
    "positive_tweets_train = tokenizer.texts_to_sequences(positive_tweets['clean_text'])\n",
    "positive_selected_tokenize=tokenizer.texts_to_sequences(positive_tweets['clean_selected'])\n",
    "\n",
    "negative_tweets_train = tokenizer.texts_to_sequences(negative_tweets['clean_text'])\n",
    "negative_selected_tokenize=tokenizer.texts_to_sequences(negative_tweets['clean_selected'])\n",
    "\n",
    "positive_test = tokenizer.texts_to_sequences(positive_tweets_test['clean_text'])\n",
    "negative_test = tokenizer.texts_to_sequences(negative_tweets_test['clean_text'])"
   ]
  },
  {
   "cell_type": "markdown",
   "execution_count": null,
   "metadata": {},
   "source": [
    "# The following function is used to create an array of 0's & 1's as the output of the NN. The 1's are placed in the indices of the words, which make up the selected text, in the input tweet "
   ]
  },
  {
   "cell_type": "code",
   "execution_count": 19,
   "metadata": {},
   "outputs": [],
   "source": [
    "def get_y_train(tokenized_selected_text_train,x_train):\n",
    "    y_train=[]\n",
    "    empty_selected=[]\n",
    "    for i in range(len(x_train)):\n",
    "        selected_text_array=np.array(tokenized_selected_text_train[i])\n",
    "        if len(selected_text_array)==0:\n",
    "            #print(\"empty selected text in index: \",i)\n",
    "            empty_selected.append(i)\n",
    "            selected_text=np.zeros(max_tweet_length)\n",
    "            y_train.append(selected_text)\n",
    "            continue\n",
    "        first_word_indices=np.where(x_train[i]==selected_text_array[0])\n",
    "        first_word_indices=np.array(first_word_indices)\n",
    "        for j in first_word_indices[0]:\n",
    "            start_index=j\n",
    "            end_index=j+np.max(np.shape(selected_text_array))-1\n",
    "            x_train_sub_array=x_train[i][start_index:end_index+1]\n",
    "            if np.array_equal(x_train_sub_array,selected_text_array):\n",
    "                break\n",
    "        selected_text=np.zeros(max_tweet_length)\n",
    "        selected_text[start_index:end_index+1]=1\n",
    "        y_train.append(selected_text)\n",
    "    y_train=np.array(y_train) \n",
    "    print(\"number of empty selected text: \",len(empty_selected))\n",
    "    return y_train,empty_selected"
   ]
  },
  {
   "cell_type": "markdown",
   "execution_count": null,
   "metadata": {},
   "source": [
    "# The following are all the hyperparameters in the model:"
   ]
  },
  {
   "cell_type": "code",
   "execution_count": 20,
   "metadata": {},
   "outputs": [],
   "source": [
    "# length of input to NN\n",
    "max_tweet_length=34\n",
    "\n",
    "# embedding vector length of the embedding layer (should match the used vector length in the pretrained network)\n",
    "embedding_vector_length=300\n",
    "\n",
    "# number of units in LSTM layer \n",
    "HIDDEN_DIM=512\n",
    "\n",
    "# LSTM L2 regularization parameter\n",
    "lstm_l2=0.03\n",
    "\n",
    "# dense layers number of units\n",
    "dense_units=64\n",
    "\n",
    "# dropout value\n",
    "dropout_value=0.3\n",
    "\n",
    "# loss used in cost function   (choose either \"binary_crossentropy\" or losses.SparseCategoricalCrossentropy())\n",
    "model_loss=\"binary_crossentropy\"\n",
    "\n",
    "# batch size\n",
    "batch_size=32\n",
    "\n",
    "# number of epochs\n",
    "epochs=34\n",
    "\n",
    "# validation split of training data\n",
    "validation_split=0.1\n",
    "\n",
    "#learning metric      (choose either \"accuracy\" of \"binary_accuracy\")\n",
    "learning_metric=\"binary_accuracy\""
   ]
  },
  {
   "cell_type": "code",
   "execution_count": 21,
   "metadata": {},
   "outputs": [
    {
     "name": "stdout",
     "output_type": "stream",
     "text": [
      "number of empty selected text:  0\n",
      "number of empty selected text:  0\n"
     ]
    }
   ],
   "source": [
    "positive_x_train = pad_sequences(positive_tweets_train, maxlen=max_tweet_length)\n",
    "negative_x_train = pad_sequences(negative_tweets_train, maxlen=max_tweet_length)\n",
    "\n",
    "positive_x_test = pad_sequences(positive_test, maxlen=max_tweet_length)\n",
    "negative_x_test = pad_sequences(negative_test, maxlen=max_tweet_length)\n",
    "\n",
    "positive_y_train,positive_selected_empty=get_y_train(positive_selected_tokenize,positive_x_train)\n",
    "negative_y_train,negative_selected_empty=get_y_train(negative_selected_tokenize,negative_x_train)\n",
    "\n",
    "#positive_y_train=pad_sequences(positive_selected_tokenize, maxlen=max_tweet_length)\n",
    "#negative_y_train=pad_sequences(negative_selected_tokenize, maxlen=max_tweet_length)"
   ]
  },
  {
   "cell_type": "markdown",
   "execution_count": null,
   "metadata": {},
   "source": [
    "# We used a pre-trained network for the word embedding of our text. GloVe for twitter is used here"
   ]
  },
  {
   "cell_type": "code",
   "execution_count": 22,
   "metadata": {},
   "outputs": [],
   "source": [
    "def load_glove():\n",
    "    tqdm.pandas()\n",
    "    f = open('../input/glove840b300dtxt/glove.840B.300d.txt')\n",
    "    embedding_dict = {}\n",
    "    for line in tqdm(f):\n",
    "        word_emb=line.split(' ')\n",
    "        word=word_emb[0]\n",
    "        embedding_vector=np.array(word_emb[1:],dtype = 'float32')\n",
    "        embedding_dict[word]=embedding_vector\n",
    "    \n",
    "    f.close()\n",
    "    return embedding_dict"
   ]
  },
  {
   "cell_type": "code",
   "execution_count": 23,
   "metadata": {},
   "outputs": [],
   "source": [
    "def fit_glove(tokenizer,embedding_dict,embedding_vector_length):\n",
    "    \n",
    "    vocab_size=len(tokenizer.word_index)+1\n",
    "    \n",
    "    all_embs = np.stack(embedding_dict.values())\n",
    "    emb_mean,emb_std = all_embs.mean(), all_embs.std()\n",
    "    embedding_matrix = np.random.normal(emb_mean, emb_std, (vocab_size, embedding_vector_length))\n",
    "    \n",
    "    out_of_dict=[]\n",
    "    \n",
    "    for word,value in tqdm(tokenizer.word_index.items()):\n",
    "        embedding_vector=embedding_dict.get(word)\n",
    "        if embedding_vector is not None:\n",
    "            embedding_matrix[value]=embedding_vector\n",
    "        else:\n",
    "            out_of_dict.append(word)     \n",
    "                \n",
    "    print(\"number of words not in embedding dictionary: \", len(out_of_dict))        \n",
    "    return embedding_matrix,out_of_dict"
   ]
  },
  {
   "cell_type": "code",
   "execution_count": 24,
   "metadata": {},
   "outputs": [
    {
     "name": "stderr",
     "output_type": "stream",
     "text": [
      "/opt/conda/lib/python3.7/site-packages/tqdm/std.py:666: FutureWarning: The Panel class is removed from pandas. Accessing it from the top-level namespace will also be removed in the next version\n",
      "  from pandas import Panel\n",
      "2196018it [05:30, 6643.34it/s]\n",
      "/opt/conda/lib/python3.7/site-packages/IPython/core/interactiveshell.py:3331: FutureWarning: arrays to stack must be passed as a \"sequence\" type such as list or tuple. Support for non-sequence iterables such as generators is deprecated as of NumPy 1.16 and will raise an error in the future.\n",
      "  exec(code_obj, self.user_global_ns, self.user_ns)\n",
      "100%|██████████| 19823/19823 [00:00<00:00, 278299.64it/s]"
     ]
    },
    {
     "name": "stdout",
     "output_type": "stream",
     "text": [
      "number of words not in embedding dictionary:  2672\n"
     ]
    },
    {
     "name": "stderr",
     "output_type": "stream",
     "text": [
      "\n"
     ]
    }
   ],
   "source": [
    "embedding_dict=load_glove()\n",
    "embedding_matrix,out_of_embedding_dict=fit_glove(tokenizer,embedding_dict,embedding_vector_length)"
   ]
  },
  {
   "cell_type": "code",
   "execution_count": 25,
   "metadata": {},
   "outputs": [
    {
     "name": "stdout",
     "output_type": "stream",
     "text": [
      "['<UKN>', 'g1986', 'day<3', 'muahahahhahaha', 'darnitt', 'accela', 'ccrying', 'soberana', '_04071991', '(?)', 'fkc', 'dunners', '3..', '<3criminy', 'booklife', 'bradies', 'suuuks', 'ï¿½80', 'ouuuuuuuuuchhhhhhhh', 'mtfbwy', 'binstruct', 'chilliin', '1thing', 'yuuum', 'fitzcarraldo', 'saaaaaaid', 'grtsat', 'cnaterbury', 'nylana', 'oowwwww', 'rainging', 'tifanny', 'mygrilled', \"...'\", 'twitster', 'icurve', 'walwal', 'amazeeeeeee', 'offiacial', 'mayjah', 'mammyy', '((((((((((((((((((', 'ohay', '}:', '50%', 'cooolooorss', 'youregreat', 'sarrah', 'pachad', 'myweawkness', 'heelllll']\n"
     ]
    }
   ],
   "source": [
    "print(out_of_embedding_dict[0:51])"
   ]
  },
  {
   "cell_type": "markdown",
   "execution_count": null,
   "metadata": {},
   "source": [
    "# Next is the model architecture"
   ]
  },
  {
   "cell_type": "code",
   "execution_count": 26,
   "metadata": {},
   "outputs": [
    {
     "name": "stdout",
     "output_type": "stream",
     "text": [
      "Model: \"model\"\n",
      "__________________________________________________________________________________________________\n",
      "Layer (type)                    Output Shape         Param #     Connected to                     \n",
      "==================================================================================================\n",
      "input_1 (InputLayer)            [(None, 34)]         0                                            \n",
      "__________________________________________________________________________________________________\n",
      "embedding (Embedding)           (None, 34, 300)      5947200     input_1[0][0]                    \n",
      "__________________________________________________________________________________________________\n",
      "bidirectional (Bidirectional)   (None, 34, 1024)     3330048     embedding[0][0]                  \n",
      "__________________________________________________________________________________________________\n",
      "time_distributed (TimeDistribut (None, 34, 64)       65600       bidirectional[0][0]              \n",
      "__________________________________________________________________________________________________\n",
      "time_distributed_3 (TimeDistrib (None, 34, 64)       0           time_distributed[0][0]           \n",
      "                                                                 time_distributed_1[0][0]         \n",
      "__________________________________________________________________________________________________\n",
      "time_distributed_1 (TimeDistrib (None, 34, 64)       4160        time_distributed_3[0][0]         \n",
      "__________________________________________________________________________________________________\n",
      "time_distributed_4 (TimeDistrib (None, 34, 1)        65          time_distributed_3[1][0]         \n",
      "==================================================================================================\n",
      "Total params: 9,347,073\n",
      "Trainable params: 3,399,873\n",
      "Non-trainable params: 5,947,200\n",
      "__________________________________________________________________________________________________\n"
     ]
    }
   ],
   "source": [
    "\n",
    "    \n",
    "inputs_n = Input(shape=(max_tweet_length,), dtype='int32')\n",
    "\n",
    "embedding_layer_n = Embedding(vocab_size, embedding_vector_length, weights=[embedding_matrix],trainable=False)\n",
    "encoder_LSTM_n = Bidirectional(LSTM(HIDDEN_DIM,return_sequences=True,kernel_regularizer=regularizers.l2(lstm_l2)))\n",
    "dense_layer_relu_n1 = TimeDistributed(Dense(dense_units, activation='relu'))\n",
    "dense_layer_relu_n2 = TimeDistributed(Dense(dense_units, activation='relu'))\n",
    "dense_layer_sigmoid_n = TimeDistributed(Dense(64, activation='sigmoid'))\n",
    "Drop_n = TimeDistributed(Dropout(dropout_value))\n",
    "dense_layer_n = TimeDistributed(Dense(1, activation='sigmoid'))\n",
    "\n",
    "encoder_embedding_n = embedding_layer_n(inputs_n)\n",
    "Encoded_seq_n = encoder_LSTM_n(encoder_embedding_n)\n",
    "outputs_n = Drop_n(dense_layer_relu_n1(Encoded_seq_n))\n",
    "outputs_n = Drop_n(dense_layer_relu_n2(outputs_n))\n",
    "#outputs_n= Drop_n(dense_layer_sigmoid_n(outputs_n))\n",
    "outputs_n = dense_layer_n(outputs_n)\n",
    "\n",
    "negative_model = Model(inputs=inputs_n, outputs=outputs_n)  \n",
    "negative_model.compile(optimizer='Adam', loss=model_loss,metrics=[learning_metric])\n",
    "negative_model.summary()"
   ]
  },
  {
   "cell_type": "code",
   "execution_count": 27,
   "metadata": {},
   "outputs": [
    {
     "name": "stdout",
     "output_type": "stream",
     "text": [
      "Model: \"model_1\"\n",
      "__________________________________________________________________________________________________\n",
      "Layer (type)                    Output Shape         Param #     Connected to                     \n",
      "==================================================================================================\n",
      "input_2 (InputLayer)            [(None, 34)]         0                                            \n",
      "__________________________________________________________________________________________________\n",
      "embedding_1 (Embedding)         (None, 34, 300)      5947200     input_2[0][0]                    \n",
      "__________________________________________________________________________________________________\n",
      "bidirectional_1 (Bidirectional) (None, 34, 1024)     3330048     embedding_1[0][0]                \n",
      "__________________________________________________________________________________________________\n",
      "time_distributed_5 (TimeDistrib (None, 34, 64)       65600       bidirectional_1[0][0]            \n",
      "__________________________________________________________________________________________________\n",
      "time_distributed_8 (TimeDistrib (None, 34, 64)       0           time_distributed_5[0][0]         \n",
      "                                                                 time_distributed_6[0][0]         \n",
      "__________________________________________________________________________________________________\n",
      "time_distributed_6 (TimeDistrib (None, 34, 64)       4160        time_distributed_8[0][0]         \n",
      "__________________________________________________________________________________________________\n",
      "time_distributed_9 (TimeDistrib (None, 34, 1)        65          time_distributed_8[1][0]         \n",
      "==================================================================================================\n",
      "Total params: 9,347,073\n",
      "Trainable params: 3,399,873\n",
      "Non-trainable params: 5,947,200\n",
      "__________________________________________________________________________________________________\n"
     ]
    }
   ],
   "source": [
    "inputs_p = Input(shape=(max_tweet_length,), dtype='int32')\n",
    "\n",
    "embedding_layer_p = Embedding(vocab_size, embedding_vector_length, weights=[embedding_matrix],trainable=False)\n",
    "encoder_LSTM_p = Bidirectional(LSTM(HIDDEN_DIM,return_sequences=True,kernel_regularizer=regularizers.l2(lstm_l2)))\n",
    "dense_layer_relu_p1 = TimeDistributed(Dense(dense_units, activation='relu'))\n",
    "dense_layer_relu_p2 = TimeDistributed(Dense(dense_units, activation='relu'))\n",
    "dense_layer_sigmoid_p = TimeDistributed(Dense(64, activation='sigmoid'))\n",
    "Drop_p = TimeDistributed(Dropout(dropout_value))\n",
    "dense_layer_p = TimeDistributed(Dense(1, activation='sigmoid'))\n",
    "\n",
    "encoder_embedding_p = embedding_layer_p(inputs_p)\n",
    "Encoded_seq_p = encoder_LSTM_p(encoder_embedding_p)\n",
    "outputs_p = Drop_p(dense_layer_relu_p1(Encoded_seq_p))\n",
    "outputs_p = Drop_p(dense_layer_relu_p2(outputs_p))\n",
    "#outputs_p= Drop_p(dense_layer_sigmoid_p(outputs_p))\n",
    "outputs_p = dense_layer_p(outputs_p)\n",
    "\n",
    "positive_model = Model(inputs=inputs_p, outputs=outputs_p)  \n",
    "positive_model.compile(optimizer='Adam', loss=model_loss,metrics=[learning_metric])\n",
    "positive_model.summary()"
   ]
  },
  {
   "cell_type": "code",
   "execution_count": 28,
   "metadata": {},
   "outputs": [],
   "source": [
    "if model_loss != \"binary_crossentropy\":\n",
    "    y_train=np.reshape(negative_y_train,np.product(np.shape(negative_y_train)))\n",
    "    print(np.shape(y_train))\n",
    "    negative_y_train=y_train\n",
    "    y_train=np.reshape(positive_y_train,np.product(np.shape(positive_y_train)))\n",
    "    positive_y_train=y_train"
   ]
  },
  {
   "cell_type": "code",
   "execution_count": 29,
   "metadata": {},
   "outputs": [
    {
     "name": "stdout",
     "output_type": "stream",
     "text": [
      "Epoch 1/34\n",
      "242/242 [==============================] - 103s 427ms/step - loss: 2.1274 - binary_accuracy: 0.8952 - val_loss: 0.2317 - val_binary_accuracy: 0.8976\n",
      "Epoch 2/34\n",
      "242/242 [==============================] - 100s 412ms/step - loss: 0.2264 - binary_accuracy: 0.9050 - val_loss: 0.2227 - val_binary_accuracy: 0.9018\n",
      "Epoch 3/34\n",
      "242/242 [==============================] - 100s 414ms/step - loss: 0.2194 - binary_accuracy: 0.9069 - val_loss: 0.2205 - val_binary_accuracy: 0.9061\n",
      "Epoch 4/34\n",
      "242/242 [==============================] - 103s 424ms/step - loss: 0.2171 - binary_accuracy: 0.9074 - val_loss: 0.2155 - val_binary_accuracy: 0.9072\n",
      "Epoch 5/34\n",
      "242/242 [==============================] - 103s 427ms/step - loss: 0.2145 - binary_accuracy: 0.9088 - val_loss: 0.2105 - val_binary_accuracy: 0.9084\n",
      "Epoch 6/34\n",
      "242/242 [==============================] - 99s 411ms/step - loss: 0.2111 - binary_accuracy: 0.9093 - val_loss: 0.2138 - val_binary_accuracy: 0.9071\n",
      "Epoch 7/34\n",
      "242/242 [==============================] - 100s 414ms/step - loss: 0.2108 - binary_accuracy: 0.9098 - val_loss: 0.2112 - val_binary_accuracy: 0.9094\n",
      "Epoch 8/34\n",
      "242/242 [==============================] - 100s 413ms/step - loss: 0.2264 - binary_accuracy: 0.9100 - val_loss: 0.3020 - val_binary_accuracy: 0.9093\n",
      "Epoch 9/34\n",
      "242/242 [==============================] - 102s 420ms/step - loss: 0.2141 - binary_accuracy: 0.9104 - val_loss: 0.2080 - val_binary_accuracy: 0.9087\n",
      "Epoch 10/34\n",
      "242/242 [==============================] - 102s 421ms/step - loss: 0.2055 - binary_accuracy: 0.9112 - val_loss: 0.2074 - val_binary_accuracy: 0.9093\n",
      "Epoch 11/34\n",
      "242/242 [==============================] - 110s 455ms/step - loss: 0.2059 - binary_accuracy: 0.9113 - val_loss: 0.2075 - val_binary_accuracy: 0.9082\n",
      "Epoch 12/34\n",
      "242/242 [==============================] - 101s 417ms/step - loss: 0.2065 - binary_accuracy: 0.9114 - val_loss: 0.2116 - val_binary_accuracy: 0.9029\n",
      "Epoch 13/34\n",
      "242/242 [==============================] - 99s 408ms/step - loss: 0.2054 - binary_accuracy: 0.9117 - val_loss: 0.2040 - val_binary_accuracy: 0.9114\n",
      "Epoch 14/34\n",
      "242/242 [==============================] - 97s 402ms/step - loss: 0.2045 - binary_accuracy: 0.9119 - val_loss: 0.2064 - val_binary_accuracy: 0.9090\n",
      "Epoch 15/34\n",
      "242/242 [==============================] - 98s 403ms/step - loss: 0.2048 - binary_accuracy: 0.9119 - val_loss: 0.2045 - val_binary_accuracy: 0.9099\n",
      "Epoch 16/34\n",
      "242/242 [==============================] - 99s 409ms/step - loss: 0.2040 - binary_accuracy: 0.9122 - val_loss: 0.2056 - val_binary_accuracy: 0.9099\n",
      "Epoch 17/34\n",
      "242/242 [==============================] - 97s 402ms/step - loss: 0.2048 - binary_accuracy: 0.9119 - val_loss: 0.2043 - val_binary_accuracy: 0.9101\n",
      "Epoch 18/34\n",
      "242/242 [==============================] - 108s 447ms/step - loss: 0.2047 - binary_accuracy: 0.9119 - val_loss: 0.2019 - val_binary_accuracy: 0.9104\n",
      "Epoch 19/34\n",
      "242/242 [==============================] - 98s 405ms/step - loss: 0.2043 - binary_accuracy: 0.9121 - val_loss: 0.2040 - val_binary_accuracy: 0.9111\n",
      "Epoch 20/34\n",
      "242/242 [==============================] - 96s 398ms/step - loss: 0.2049 - binary_accuracy: 0.9123 - val_loss: 0.2077 - val_binary_accuracy: 0.9107\n",
      "Epoch 21/34\n",
      "242/242 [==============================] - 96s 396ms/step - loss: 0.2031 - binary_accuracy: 0.9127 - val_loss: 0.2058 - val_binary_accuracy: 0.9111\n",
      "Epoch 22/34\n",
      "242/242 [==============================] - 98s 403ms/step - loss: 0.2042 - binary_accuracy: 0.9125 - val_loss: 0.2036 - val_binary_accuracy: 0.9113\n",
      "Epoch 23/34\n",
      "242/242 [==============================] - 96s 395ms/step - loss: 0.2031 - binary_accuracy: 0.9125 - val_loss: 0.2016 - val_binary_accuracy: 0.9101\n",
      "Epoch 24/34\n",
      "242/242 [==============================] - 95s 392ms/step - loss: 0.2047 - binary_accuracy: 0.9124 - val_loss: 0.2102 - val_binary_accuracy: 0.9094\n",
      "Epoch 25/34\n",
      "242/242 [==============================] - 96s 396ms/step - loss: 0.2042 - binary_accuracy: 0.9124 - val_loss: 0.2030 - val_binary_accuracy: 0.9105\n",
      "Epoch 26/34\n",
      "242/242 [==============================] - 95s 394ms/step - loss: 0.2030 - binary_accuracy: 0.9127 - val_loss: 0.2037 - val_binary_accuracy: 0.9110\n",
      "Epoch 27/34\n",
      "242/242 [==============================] - 97s 400ms/step - loss: 0.2031 - binary_accuracy: 0.9133 - val_loss: 0.2040 - val_binary_accuracy: 0.9111\n",
      "Epoch 28/34\n",
      "242/242 [==============================] - 98s 407ms/step - loss: 0.2030 - binary_accuracy: 0.9123 - val_loss: 0.2019 - val_binary_accuracy: 0.9113\n",
      "Epoch 29/34\n",
      "242/242 [==============================] - 95s 394ms/step - loss: 0.2035 - binary_accuracy: 0.9129 - val_loss: 0.2053 - val_binary_accuracy: 0.9102\n",
      "Epoch 30/34\n",
      "242/242 [==============================] - 96s 399ms/step - loss: 0.2030 - binary_accuracy: 0.9130 - val_loss: 0.2046 - val_binary_accuracy: 0.9111\n",
      "Epoch 31/34\n",
      "242/242 [==============================] - 101s 418ms/step - loss: 0.2033 - binary_accuracy: 0.9130 - val_loss: 0.2034 - val_binary_accuracy: 0.9110\n",
      "Epoch 32/34\n",
      "242/242 [==============================] - 96s 398ms/step - loss: 0.2029 - binary_accuracy: 0.9126 - val_loss: 0.2084 - val_binary_accuracy: 0.9102\n",
      "Epoch 33/34\n",
      "242/242 [==============================] - 96s 398ms/step - loss: 0.2024 - binary_accuracy: 0.9131 - val_loss: 0.2041 - val_binary_accuracy: 0.9109\n",
      "Epoch 34/34\n",
      "242/242 [==============================] - 95s 394ms/step - loss: 0.2022 - binary_accuracy: 0.9131 - val_loss: 0.2047 - val_binary_accuracy: 0.9105\n"
     ]
    },
    {
     "data": {
      "text/plain": [
       "<tensorflow.python.keras.callbacks.History at 0x7f734c314e10>"
      ]
     },
     "execution_count": 29,
     "metadata": {},
     "output_type": "execute_result"
    }
   ],
   "source": [
    "## the inputs to the method fit() have to be arrays not lists\n",
    "positive_model.fit(positive_x_train,positive_y_train, batch_size=batch_size, epochs=epochs, validation_split=validation_split)"
   ]
  },
  {
   "cell_type": "code",
   "execution_count": 30,
   "metadata": {},
   "outputs": [
    {
     "name": "stdout",
     "output_type": "stream",
     "text": [
      "Epoch 1/34\n",
      "219/219 [==============================] - 88s 400ms/step - loss: 2.3224 - binary_accuracy: 0.8781 - val_loss: 0.2561 - val_binary_accuracy: 0.8778\n",
      "Epoch 2/34\n",
      "219/219 [==============================] - 87s 398ms/step - loss: 0.2487 - binary_accuracy: 0.8868 - val_loss: 0.2485 - val_binary_accuracy: 0.8851\n",
      "Epoch 3/34\n",
      "219/219 [==============================] - 96s 437ms/step - loss: 0.2431 - binary_accuracy: 0.8900 - val_loss: 0.2441 - val_binary_accuracy: 0.8887\n",
      "Epoch 4/34\n",
      "219/219 [==============================] - 87s 396ms/step - loss: 0.2413 - binary_accuracy: 0.8911 - val_loss: 0.2371 - val_binary_accuracy: 0.8904\n",
      "Epoch 5/34\n",
      "219/219 [==============================] - 86s 391ms/step - loss: 0.2457 - binary_accuracy: 0.8918 - val_loss: 0.2437 - val_binary_accuracy: 0.8865\n",
      "Epoch 6/34\n",
      "219/219 [==============================] - 86s 391ms/step - loss: 0.2366 - binary_accuracy: 0.8929 - val_loss: 0.2443 - val_binary_accuracy: 0.8853\n",
      "Epoch 7/34\n",
      "219/219 [==============================] - 88s 400ms/step - loss: 0.2356 - binary_accuracy: 0.8933 - val_loss: 0.2385 - val_binary_accuracy: 0.8899\n",
      "Epoch 8/34\n",
      "219/219 [==============================] - 86s 392ms/step - loss: 0.2334 - binary_accuracy: 0.8941 - val_loss: 0.2373 - val_binary_accuracy: 0.8901\n",
      "Epoch 9/34\n",
      "219/219 [==============================] - 86s 392ms/step - loss: 0.2335 - binary_accuracy: 0.8946 - val_loss: 0.2348 - val_binary_accuracy: 0.8906\n",
      "Epoch 10/34\n",
      "219/219 [==============================] - 85s 389ms/step - loss: 0.2325 - binary_accuracy: 0.8946 - val_loss: 0.2334 - val_binary_accuracy: 0.8916\n",
      "Epoch 11/34\n",
      "219/219 [==============================] - 86s 393ms/step - loss: 0.2320 - binary_accuracy: 0.8952 - val_loss: 0.2384 - val_binary_accuracy: 0.8918\n",
      "Epoch 12/34\n",
      "219/219 [==============================] - 85s 389ms/step - loss: 0.2307 - binary_accuracy: 0.8959 - val_loss: 0.2358 - val_binary_accuracy: 0.8927\n",
      "Epoch 13/34\n",
      "219/219 [==============================] - 87s 397ms/step - loss: 0.2313 - binary_accuracy: 0.8960 - val_loss: 0.2329 - val_binary_accuracy: 0.8925\n",
      "Epoch 14/34\n",
      "219/219 [==============================] - 87s 398ms/step - loss: 0.2309 - binary_accuracy: 0.8969 - val_loss: 0.2363 - val_binary_accuracy: 0.8915\n",
      "Epoch 15/34\n",
      "219/219 [==============================] - 86s 392ms/step - loss: 0.2303 - binary_accuracy: 0.8971 - val_loss: 0.2314 - val_binary_accuracy: 0.8940\n",
      "Epoch 16/34\n",
      "219/219 [==============================] - 86s 394ms/step - loss: 0.2295 - binary_accuracy: 0.8978 - val_loss: 0.2288 - val_binary_accuracy: 0.8960\n",
      "Epoch 17/34\n",
      "219/219 [==============================] - 90s 411ms/step - loss: 0.2276 - binary_accuracy: 0.8986 - val_loss: 0.2290 - val_binary_accuracy: 0.8951\n",
      "Epoch 18/34\n",
      "219/219 [==============================] - 87s 398ms/step - loss: 0.2309 - binary_accuracy: 0.8984 - val_loss: 0.2318 - val_binary_accuracy: 0.8951\n",
      "Epoch 19/34\n",
      "219/219 [==============================] - 86s 391ms/step - loss: 0.2290 - binary_accuracy: 0.8990 - val_loss: 0.2285 - val_binary_accuracy: 0.8964\n",
      "Epoch 20/34\n",
      "219/219 [==============================] - 88s 401ms/step - loss: 0.2279 - binary_accuracy: 0.8998 - val_loss: 0.2386 - val_binary_accuracy: 0.8939\n",
      "Epoch 21/34\n",
      "219/219 [==============================] - 86s 391ms/step - loss: 0.2268 - binary_accuracy: 0.9004 - val_loss: 0.2359 - val_binary_accuracy: 0.8956\n",
      "Epoch 22/34\n",
      "219/219 [==============================] - 87s 398ms/step - loss: 0.2276 - binary_accuracy: 0.8997 - val_loss: 0.2271 - val_binary_accuracy: 0.8986\n",
      "Epoch 23/34\n",
      "219/219 [==============================] - 87s 396ms/step - loss: 0.2271 - binary_accuracy: 0.9005 - val_loss: 0.2279 - val_binary_accuracy: 0.8981\n",
      "Epoch 24/34\n",
      "219/219 [==============================] - 97s 441ms/step - loss: 0.2268 - binary_accuracy: 0.9005 - val_loss: 0.2282 - val_binary_accuracy: 0.8961\n",
      "Epoch 25/34\n",
      "219/219 [==============================] - 87s 395ms/step - loss: 0.2265 - binary_accuracy: 0.9003 - val_loss: 0.2316 - val_binary_accuracy: 0.8953\n",
      "Epoch 26/34\n",
      "219/219 [==============================] - 87s 398ms/step - loss: 0.2264 - binary_accuracy: 0.9010 - val_loss: 0.2266 - val_binary_accuracy: 0.8964\n",
      "Epoch 27/34\n",
      "219/219 [==============================] - 86s 394ms/step - loss: 0.2257 - binary_accuracy: 0.9011 - val_loss: 0.2304 - val_binary_accuracy: 0.8962\n",
      "Epoch 28/34\n",
      "219/219 [==============================] - 86s 391ms/step - loss: 0.2251 - binary_accuracy: 0.9013 - val_loss: 0.2252 - val_binary_accuracy: 0.8977\n",
      "Epoch 29/34\n",
      "219/219 [==============================] - 87s 399ms/step - loss: 0.2247 - binary_accuracy: 0.9013 - val_loss: 0.2296 - val_binary_accuracy: 0.8968\n",
      "Epoch 30/34\n",
      "219/219 [==============================] - 85s 389ms/step - loss: 0.2244 - binary_accuracy: 0.9016 - val_loss: 0.2349 - val_binary_accuracy: 0.8949\n",
      "Epoch 31/34\n",
      "219/219 [==============================] - 86s 391ms/step - loss: 0.2254 - binary_accuracy: 0.9015 - val_loss: 0.2291 - val_binary_accuracy: 0.8974\n",
      "Epoch 32/34\n",
      "219/219 [==============================] - 86s 392ms/step - loss: 0.2240 - binary_accuracy: 0.9018 - val_loss: 0.2311 - val_binary_accuracy: 0.8968\n",
      "Epoch 33/34\n",
      "219/219 [==============================] - 86s 394ms/step - loss: 0.2236 - binary_accuracy: 0.9022 - val_loss: 0.2282 - val_binary_accuracy: 0.8977\n",
      "Epoch 34/34\n",
      "219/219 [==============================] - 86s 393ms/step - loss: 0.2246 - binary_accuracy: 0.9017 - val_loss: 0.2279 - val_binary_accuracy: 0.8969\n"
     ]
    },
    {
     "data": {
      "text/plain": [
       "<tensorflow.python.keras.callbacks.History at 0x7f7320164650>"
      ]
     },
     "execution_count": 30,
     "metadata": {},
     "output_type": "execute_result"
    }
   ],
   "source": [
    "## the inputs to the method fit() have to be arrays not lists\n",
    "negative_model.fit(negative_x_train,negative_y_train, batch_size=batch_size, epochs=epochs, validation_split=validation_split)"
   ]
  },
  {
   "cell_type": "code",
   "execution_count": 31,
   "metadata": {},
   "outputs": [],
   "source": [
    "negative_y_test=negative_model.predict(negative_x_train)\n",
    "negative_y_test=np.around(negative_y_test)\n",
    "\n",
    "positive_y_test=positive_model.predict(positive_x_train)\n",
    "positive_y_test=np.around(positive_y_test)"
   ]
  },
  {
   "cell_type": "code",
   "execution_count": 32,
   "metadata": {},
   "outputs": [
    {
     "name": "stdout",
     "output_type": "stream",
     "text": [
      "[[0. 0. 0. 0. 0. 0. 0. 0. 0. 0. 0. 0. 0. 0. 0. 0. 0. 0. 0. 0. 0. 0. 0. 0.\n",
      "  0. 0. 0. 0. 0. 0. 1. 1. 1. 1.]]\n",
      "[0. 0. 0. 0. 0. 0. 0. 0. 0. 0. 0. 0. 0. 0. 0. 0. 0. 0. 0. 0. 0. 0. 0. 0.\n",
      " 0. 0. 0. 0. 0. 0. 0. 1. 1. 1.]\n"
     ]
    }
   ],
   "source": [
    "print(np.transpose(negative_y_test[2]))\n",
    "print(negative_y_train[2])"
   ]
  },
  {
   "cell_type": "code",
   "execution_count": 33,
   "metadata": {},
   "outputs": [],
   "source": [
    "def convert_pred_index_into_selected_text(x,y,tweets_data,tokenizer):\n",
    "    \n",
    "    reverse_tokenizer=dict(map(reversed,tokenizer.word_index.items()))\n",
    "    data_text_lower=[item.lower() for item in tweets_data.text]\n",
    "    \n",
    "    no_selected_text=0\n",
    "    for i in range(len(tweets_data)):\n",
    "        \n",
    "## debugging\n",
    "#        if i==7:\n",
    "#            print(\"index number\", i, \"has the error\")        \n",
    "#            return\n",
    "        \n",
    "        actual_selected_words=[]\n",
    "        \n",
    "        tweets_data_index=tweets_data.index[i]        \n",
    "        split_tweet=tweets_data.text[tweets_data_index].split()\n",
    "\n",
    "        #filtered_split_tweet=[]\n",
    "        \n",
    "        # doing it this way instead of doing it without split solves this example:\n",
    "        # (hello ... world), the \"...\" will be removed but it will still take an index 1 and world will take index 2\n",
    "        # if split was not used, world will now take index 1\n",
    "#        for j in range(len(split_tweet)):\n",
    "#            filtered_split_tweet.append(remove_special_characters(split_tweet[j].lower()))\n",
    "        \n",
    "        filtered_split_tweet=remove_special_characters(tweets_data.text[tweets_data_index].lower())\n",
    "        filtered_split_tweet=filtered_split_tweet.split()\n",
    "        \n",
    "        predicted_indices=np.where(y[i]==1)\n",
    "        if len(predicted_indices[0])==0:\n",
    "            tweets_data.selected_text[tweets_data_index]=\"\"\n",
    "            #print(\"no selected text for tweet in row: \",tweets_data_index, \"index number: \",i)\n",
    "            no_selected_text=no_selected_text+1\n",
    "            continue\n",
    "            \n",
    "  \n",
    "        for index in predicted_indices[0]:\n",
    "            if x[i][index] !=0:\n",
    "                selected_word=reverse_tokenizer.get(x[i][index])\n",
    "                selected_word_index=get_index_word_in_string(selected_word,filtered_split_tweet)\n",
    "                # np.where doesn't work with strings, even if split\n",
    "                #selected_word_index=np.where(filtered_split_tweet==selected_word)\n",
    "                \n",
    "# the commented code is used for debugging  \n",
    "        #        print(i)\n",
    "#                if i==7:\n",
    "#                    print(\"predicted words indices: \",predicted_indices[0])\n",
    "#                    print(\"selected word: \", selected_word)\n",
    "#                    print(\"filtered text: \",filtered_split_tweet)\n",
    "#                    print(\"selected word index:\", selected_word_index)\n",
    "#                    return\n",
    "###################################        \n",
    "                if selected_word_index==-1:\n",
    "                    print(\"there is an error in conversion for tweet row: \",tweets_data_index, \"index number: \",i)\n",
    "                elif len(selected_word_index)==1:                     \n",
    "                    tweet_text_lower_split=tweets_data.text[tweets_data_index].lower().split()\n",
    "                    update=0\n",
    "                    for j in range(len(tweet_text_lower_split)):\n",
    "                        found_word=tweet_text_lower_split[j].find(selected_word)\n",
    "                        if found_word !=-1:\n",
    "                            actual_selected_word=tweets_data.text[tweets_data_index].split()[j]\n",
    "                            duplicate=0\n",
    "                            for k in range(len(actual_selected_words)):\n",
    "                                duplicate_found=get_index_word_in_string(actual_selected_word,actual_selected_words)\n",
    "                                if duplicate_found !=-1:\n",
    "                                    #print(\"duplicate found in row: \",tweets_data_index, \"index number: \",i)\n",
    "                                    duplicate=1\n",
    "                                    update=1\n",
    "                                    break\n",
    "                            if duplicate !=1:\n",
    "                                actual_selected_words.append(actual_selected_word)\n",
    "                                update=1\n",
    "                            break\n",
    "                    if update ==0:\n",
    "                        print(\"error in find for row: \",tweets_data_index, \"index number: \",i)\n",
    "                    #actual_selected_words.append(tweets_data.text[tweets_data_index].split()[selected_word_index[0]])\n",
    "                elif len(selected_word_index)>1:\n",
    "                    ## for now, we chose the word to be of the first index, but should be later updated to be smarter ##\n",
    "                    #actual_selected_words.append(tweets_data.text[tweets_data_index].split()[selected_word_index[0]])\n",
    "                    tweet_text_lower_split=tweets_data.text[tweets_data_index].lower().split()\n",
    "                    update=0\n",
    "                    for j in range(len(tweet_text_lower_split)):\n",
    "                        found_word=tweet_text_lower_split[j].find(selected_word)\n",
    "                        if found_word !=-1:\n",
    "                            actual_selected_word=tweets_data.text[tweets_data_index].split()[j]\n",
    "                            duplicate=0\n",
    "                            for k in range(len(actual_selected_words)):\n",
    "                                duplicate_found=get_index_word_in_string(actual_selected_word,actual_selected_words)\n",
    "                                if duplicate_found !=-1:\n",
    "                                    #print(\"duplicate found in row: \",tweets_data_index, \"index number: \",i)\n",
    "                                    duplicate=1\n",
    "                                    update=1\n",
    "                                    break\n",
    "                            if duplicate !=1:\n",
    "                                actual_selected_words.append(actual_selected_word)\n",
    "                                update=1\n",
    "                            break\n",
    "                    if update ==0:\n",
    "                        print(\"error in find for row: \",tweets_data_index, \"index number: \",i)\n",
    "# the commented code is used for debugging  \n",
    "#        print(i)\n",
    "#            if i==6:\n",
    "#                print(\"predicted words indices: \",predicted_indices[0])\n",
    "#                print(\"selected word: \", selected_word)\n",
    "#                print(\"filtered text: \",filtered_split_tweet)\n",
    "#                print(\"selected word index:\", selected_word_index)\n",
    "#                print(\"actual text split: \",tweets_data.text[tweets_data_index].split())\n",
    "#                return\n",
    "           \n",
    "        actual_selected_text=\" \".join(actual_selected_words)\n",
    "        tweets_data.selected_text[tweets_data_index]=actual_selected_text      \n",
    "        #selected_text=\" \".join(selected_words)    \n",
    "    print(\"total empty selected text: \",no_selected_text)\n",
    "    return"
   ]
  },
  {
   "cell_type": "code",
   "execution_count": 34,
   "metadata": {},
   "outputs": [],
   "source": [
    "def populate_test_selected_text(positive_tweets,negative_tweets,test_data):\n",
    "    for i in tqdm(test_data.index):\n",
    "        if test_data.sentiment[i]==\"neutral\":\n",
    "            test_data.selected_text[i]=test_data.text[i]\n",
    "            \n",
    "        elif test_data.sentiment[i]==\"positive\":\n",
    "            if positive_tweets.textID[i] != test_data.textID[i]:\n",
    "                print(\"There is an error in indices for index: \",i)\n",
    "                for j in positive_tweets.index:\n",
    "                    if positive_tweets.textID[j] == test_data.textID[i]:\n",
    "                        test_data.selected_text[i]=positive_tweets.selected_text[j]\n",
    "                        break\n",
    "            else:\n",
    "                test_data.selected_text[i]=positive_tweets.selected_text[i]\n",
    "                \n",
    "        elif test_data.sentiment[i]==\"negative\":\n",
    "            if negative_tweets.textID[i] != test_data.textID[i]:\n",
    "                print(\"There is an error in indices for index: \",i)\n",
    "                for j in negative_tweets.index:\n",
    "                    if negative_tweets.textID[j] == test_data.textID[i]:\n",
    "                        test_data.selected_text[i]=negative_tweets.selected_text[j]\n",
    "                        break\n",
    "            else:\n",
    "                test_data.selected_text[i]=negative_tweets.selected_text[i]\n",
    "                \n",
    "    return\n",
    "                                "
   ]
  },
  {
   "cell_type": "code",
   "execution_count": 35,
   "metadata": {},
   "outputs": [
    {
     "name": "stderr",
     "output_type": "stream",
     "text": [
      "/opt/conda/lib/python3.7/site-packages/ipykernel_launcher.py:112: SettingWithCopyWarning: \n",
      "A value is trying to be set on a copy of a slice from a DataFrame\n",
      "\n",
      "See the caveats in the documentation: https://pandas.pydata.org/pandas-docs/stable/user_guide/indexing.html#returning-a-view-versus-a-copy\n",
      "/opt/conda/lib/python3.7/site-packages/ipykernel_launcher.py:32: SettingWithCopyWarning: \n",
      "A value is trying to be set on a copy of a slice from a DataFrame\n",
      "\n",
      "See the caveats in the documentation: https://pandas.pydata.org/pandas-docs/stable/user_guide/indexing.html#returning-a-view-versus-a-copy\n"
     ]
    },
    {
     "name": "stdout",
     "output_type": "stream",
     "text": [
      "total empty selected text:  182\n"
     ]
    }
   ],
   "source": [
    "positive_train_copy1=positive_tweets.copy()\n",
    "convert_pred_index_into_selected_text(positive_x_train,positive_y_test,positive_train_copy1,tokenizer)"
   ]
  },
  {
   "cell_type": "code",
   "execution_count": 36,
   "metadata": {},
   "outputs": [
    {
     "name": "stderr",
     "output_type": "stream",
     "text": [
      "/opt/conda/lib/python3.7/site-packages/ipykernel_launcher.py:112: SettingWithCopyWarning: \n",
      "A value is trying to be set on a copy of a slice from a DataFrame\n",
      "\n",
      "See the caveats in the documentation: https://pandas.pydata.org/pandas-docs/stable/user_guide/indexing.html#returning-a-view-versus-a-copy\n",
      "/opt/conda/lib/python3.7/site-packages/ipykernel_launcher.py:32: SettingWithCopyWarning: \n",
      "A value is trying to be set on a copy of a slice from a DataFrame\n",
      "\n",
      "See the caveats in the documentation: https://pandas.pydata.org/pandas-docs/stable/user_guide/indexing.html#returning-a-view-versus-a-copy\n"
     ]
    },
    {
     "name": "stdout",
     "output_type": "stream",
     "text": [
      "total empty selected text:  178\n"
     ]
    }
   ],
   "source": [
    "negative_train_copy1=negative_tweets.copy()\n",
    "convert_pred_index_into_selected_text(negative_x_train,negative_y_test,negative_train_copy1,tokenizer)"
   ]
  },
  {
   "cell_type": "code",
   "execution_count": 37,
   "metadata": {},
   "outputs": [
    {
     "name": "stderr",
     "output_type": "stream",
     "text": [
      "  0%|          | 0/27480 [00:00<?, ?it/s]/opt/conda/lib/python3.7/site-packages/ipykernel_launcher.py:4: SettingWithCopyWarning: \n",
      "A value is trying to be set on a copy of a slice from a DataFrame\n",
      "\n",
      "See the caveats in the documentation: https://pandas.pydata.org/pandas-docs/stable/user_guide/indexing.html#returning-a-view-versus-a-copy\n",
      "  after removing the cwd from sys.path.\n",
      "/opt/conda/lib/python3.7/site-packages/ipykernel_launcher.py:24: SettingWithCopyWarning: \n",
      "A value is trying to be set on a copy of a slice from a DataFrame\n",
      "\n",
      "See the caveats in the documentation: https://pandas.pydata.org/pandas-docs/stable/user_guide/indexing.html#returning-a-view-versus-a-copy\n",
      "/opt/conda/lib/python3.7/site-packages/ipykernel_launcher.py:14: SettingWithCopyWarning: \n",
      "A value is trying to be set on a copy of a slice from a DataFrame\n",
      "\n",
      "See the caveats in the documentation: https://pandas.pydata.org/pandas-docs/stable/user_guide/indexing.html#returning-a-view-versus-a-copy\n",
      "  \n",
      "100%|██████████| 27480/27480 [00:11<00:00, 2375.24it/s]\n"
     ]
    }
   ],
   "source": [
    "train_copy_copy=train_copy.copy()\n",
    "populate_test_selected_text(positive_train_copy1,negative_train_copy1,train_copy_copy)"
   ]
  },
  {
   "cell_type": "code",
   "execution_count": 38,
   "metadata": {},
   "outputs": [
    {
     "name": "stdout",
     "output_type": "stream",
     "text": [
      "average jaccard:  0.6670189013222584\n"
     ]
    }
   ],
   "source": [
    "correct_train_copy=train.copy()\n",
    "correct_train_copy.dropna(axis=0, how=\"any\", inplace=True)\n",
    "correct_train_copy.reset_index(inplace=True)\n",
    "\n",
    "jaccard_list=[]\n",
    "for i in correct_train_copy.index:\n",
    "    correct_set=set(correct_train_copy.selected_text[i].split())\n",
    "    predicted_set=set(train_copy_copy.selected_text[i].split())\n",
    "    intersection=correct_set.intersection(predicted_set)\n",
    "    jaccard= float(len(intersection)/(len(correct_set)+len(predicted_set)-len(intersection)))\n",
    "    jaccard_list.append(jaccard)\n",
    "\n",
    "average_jaccard=sum(jaccard_list)/len(jaccard_list)\n",
    "print(\"average jaccard: \", average_jaccard)"
   ]
  },
  {
   "cell_type": "code",
   "execution_count": 39,
   "metadata": {},
   "outputs": [
    {
     "name": "stdout",
     "output_type": "stream",
     "text": [
      "total empty selected text:  28\n"
     ]
    },
    {
     "name": "stderr",
     "output_type": "stream",
     "text": [
      " 13%|█▎        | 472/3534 [00:00<00:00, 4716.99it/s]"
     ]
    },
    {
     "name": "stdout",
     "output_type": "stream",
     "text": [
      "total empty selected text:  24\n"
     ]
    },
    {
     "name": "stderr",
     "output_type": "stream",
     "text": [
      "100%|██████████| 3534/3534 [00:00<00:00, 4581.62it/s]\n"
     ]
    }
   ],
   "source": [
    "negative_y_test=negative_model.predict(negative_x_test)\n",
    "negative_y_test=np.around(negative_y_test)\n",
    "negative_test_data_copy=negative_tweets_test.copy()\n",
    "convert_pred_index_into_selected_text(negative_x_test,negative_y_test,negative_test_data_copy,tokenizer)\n",
    "\n",
    "positive_y_test=positive_model.predict(positive_x_test)\n",
    "positive_y_test=np.around(positive_y_test)\n",
    "positive_test_data_copy=positive_tweets_test.copy()\n",
    "convert_pred_index_into_selected_text(positive_x_test,positive_y_test,positive_test_data_copy,tokenizer)\n",
    "test_data_copy=test.copy()\n",
    "populate_test_selected_text(positive_test_data_copy,negative_test_data_copy,test_data_copy)"
   ]
  },
  {
   "cell_type": "code",
   "execution_count": 40,
   "metadata": {},
   "outputs": [
    {
     "name": "stdout",
     "output_type": "stream",
     "text": [
      "jaccard score between text and selected text for test set:\n",
      "positive sentiments jaccard score:  0.21959146157147869\n",
      "negative sentiments jaccard score:  0.23278539219454072\n"
     ]
    }
   ],
   "source": [
    "print(\"jaccard score between text and selected text for test set:\")\n",
    "#sentiment jaccard score\n",
    "positive_test_jaccard=get_jaccard(positive_test_data_copy)\n",
    "print(\"positive sentiments jaccard score: \",positive_test_jaccard)\n",
    "negative_test_jaccard=get_jaccard(negative_test_data_copy)\n",
    "print(\"negative sentiments jaccard score: \",negative_test_jaccard)"
   ]
  },
  {
   "cell_type": "code",
   "execution_count": 41,
   "metadata": {},
   "outputs": [],
   "source": [
    "def csv_submission(test_data):\n",
    "    submission_data={\"textID\":test_data.textID,\n",
    "               \"selected_text\":test_data.selected_text,\n",
    "    }\n",
    "    test_csv=pd.DataFrame(submission_data,columns=[\"textID\",\"selected_text\"])\n",
    "    test_csv.to_csv('submission.csv',index=False)\n",
    "    return"
   ]
  },
  {
   "cell_type": "code",
   "execution_count": 42,
   "metadata": {},
   "outputs": [],
   "source": [
    "csv_submission(test_data_copy)"
   ]
  },
  {
   "cell_type": "code",
   "execution_count": null,
   "metadata": {},
   "outputs": [],
   "source": []
  }
 ],
 "metadata": {
  "kernelspec": {
   "display_name": "Python 3",
   "language": "python",
   "name": "python3"
  },
  "language_info": {
   "codemirror_mode": {
    "name": "ipython",
    "version": 3
   },
   "file_extension": ".py",
   "mimetype": "text/x-python",
   "name": "python",
   "nbconvert_exporter": "python",
   "pygments_lexer": "ipython3",
   "version": "3.7.6"
  }
 },
 "nbformat": 4,
 "nbformat_minor": 4
}
