{
 "cells": [
  {
   "cell_type": "code",
   "execution_count": 1,
   "metadata": {
    "_cell_guid": "b1076dfc-b9ad-4769-8c92-a6c4dae69d19",
    "_uuid": "8f2839f25d086af736a60e9eeb907d3b93b6e0e5"
   },
   "outputs": [
    {
     "name": "stderr",
     "output_type": "stream",
     "text": [
      "Using TensorFlow backend.\n"
     ]
    }
   ],
   "source": [
    "import sys, os, re, csv, codecs, numpy as np, pandas as pd\n",
    "import matplotlib.pyplot as plt\n",
    "%matplotlib inline\n",
    "from keras.preprocessing.text import Tokenizer\n",
    "from keras.preprocessing.sequence import pad_sequences\n",
    "from keras.layers import Dense, Input, LSTM, Embedding, Dropout, Activation\n",
    "from keras.layers import Bidirectional, GlobalMaxPool1D\n",
    "from keras.models import Model\n",
    "from keras import initializers, regularizers, constraints, optimizers, layers\n",
    "from keras.utils import to_categorical\n",
    "from nltk.corpus import words\n",
    "import random as rand"
   ]
  },
  {
   "cell_type": "code",
   "execution_count": 2,
   "metadata": {
    "_cell_guid": "79c7e3d0-c299-4dcb-8224-4455121ee9b0",
    "_uuid": "d629ff2d2480ee46fbb7e2d37f6b5fab8052498a"
   },
   "outputs": [],
   "source": [
    "train = pd.read_csv('../input/tweet-sentiment-extraction/train.csv')\n",
    "test = pd.read_csv('../input/tweet-sentiment-extraction/test.csv')"
   ]
  },
  {
   "cell_type": "code",
   "execution_count": 3,
   "metadata": {},
   "outputs": [
    {
     "name": "stdout",
     "output_type": "stream",
     "text": [
      "tweet:   Sooo SAD I will miss you here in San Diego!!!\n",
      "tweet's sentiment:  negative\n",
      "selected text that illustrates this sentiment:  Sooo SAD\n"
     ]
    }
   ],
   "source": [
    "print(\"tweet: \",train.text[1])\n",
    "print(\"tweet's sentiment: \",train.sentiment[1])\n",
    "print(\"selected text that illustrates this sentiment: \",train.selected_text[1])"
   ]
  },
  {
   "cell_type": "code",
   "execution_count": 4,
   "metadata": {},
   "outputs": [],
   "source": [
    "def refine_text(tweets_list):\n",
    "    tweets_lower=[item.lower() for item in tweets_list]\n",
    "    tweets_refined=[item.replace(\"i`d\",\"i would\").replace(\"you`d\",\"you would\").replace(\"we`d\",\"we would\")\n",
    "                .replace(\"they`d\",\"they would\").replace(\"he`d\",\"he would\").replace(\"she`d\",\"she would\")\n",
    "                .replace(\"it`d\",\"it would\").replace(\"i`m\",\"i am\").replace(\"you`re\",\"you are\").replace(\"we`re\",\"we are\")\n",
    "                .replace(\"they`re\",\"they are\").replace(\"he`s\",\"he is\").replace(\"she`s\",\"she is\").replace(\"it`s\",\"it is\")\n",
    "                .replace(\"i`ve\",\"i have\").replace(\"you`ve\",\"you have\").replace(\"we`ve\",\"we have\")\n",
    "                .replace(\"they`ve\",\"they have\").replace(\"i`ll\",\"i will\").replace(\"you`ll\",\"you will\")\n",
    "                .replace(\"we`ll\",\"we will\").replace(\"they`ll\",\"they will\").replace(\"he`ll\",\"he will\")\n",
    "                .replace(\"she`ll\",\"she will\").replace(\"it`ll\",\"it will\").replace(\"is`nt\",\"is not\")\n",
    "                .replace(\"has`nt\",\"has not\").replace(\"don`t\",\"do not\").replace(\"can`t\",\"cannot\")\n",
    "                .replace(\"aren`t\",\"are not\").replace(\"haven`t\",\"have not\").replace(\"doesn`t\",\"does not\")\n",
    "                .replace(\"couldn`t\",\"could not\").replace(\"wasn`t\",\"was not\").replace(\"hadn`t\",\"had not\")\n",
    "                .replace(\"didn`t\",\"did not\").replace(\"won`t\",\"will not\") .replace(\"weren`t\",\"were not\")\n",
    "                .replace(\"wouldn`t\",\"would not\").replace(\"shouldn`t\",\"should not\").replace(\"mustn`t\",\"must not\")\n",
    "                .replace(\"needn`t\",\"need not\").replace(\"mightn`t\",\"might not\").replace(\"daren`t\",\"dare not\")\n",
    "                .replace(\"let`s\",\"let us\") for item in tweets_lower]\n",
    "    return tweets_refined"
   ]
  },
  {
   "cell_type": "code",
   "execution_count": 5,
   "metadata": {},
   "outputs": [],
   "source": [
    "def preprocess_data(data):\n",
    "    print(\"null text:\",data.text.isnull().sum())\n",
    "    if hasattr(data, \"selected_text\"):\n",
    "        print(\"null selected text:\",data.selected_text.isnull().sum())\n",
    "    print(\"null sentiment:\",data.sentiment.isnull().sum())\n",
    "    print(\"number of tweets:\",len(data))\n",
    "    \n",
    "    incorrect_rows=[]\n",
    "    if hasattr(data, \"selected_text\"):\n",
    "        if(data.text.isnull().sum() !=0 or data.selected_text.isnull().sum() !=0 or data.sentiment.isnull().sum() !=0):\n",
    "            data.dropna(axis=0, how=\"any\", inplace=True)\n",
    "            data.reset_index(inplace=True)\n",
    "            print(\"new number of tweets:\",len(data))\n",
    "        incorrect_selected_Text_counter,incorrect_rows=selected_text_incorrect(data)\n",
    "        print(\"incorrect selected text:\",incorrect_selected_Text_counter)\n",
    "        data.drop(incorrect_rows,inplace=True)\n",
    "        data.reset_index(inplace=True)\n",
    "    else:\n",
    "        if(data.text.isnull().sum() !=0 or data.sentiment.isnull().sum() !=0):\n",
    "            data.dropna(axis=0, how=\"any\", inplace=True)\n",
    "            data.reset_index(inplace=True)\n",
    "            print(\"new number of tweets:\",len(data))\n",
    "            \n",
    "#    data.text=refine_text(data.text)\n",
    "    \n",
    "#    if hasattr(data, \"selected_text\"):\n",
    "#        data.selected_text=refine_text(data.selected_text)\n",
    "    \n",
    "    return incorrect_rows"
   ]
  },
  {
   "cell_type": "code",
   "execution_count": 6,
   "metadata": {},
   "outputs": [],
   "source": [
    "def selected_text_incorrect(data):\n",
    "    incorrect_selected_Text_counter=0\n",
    "    incorrect_rows=[]\n",
    "    for i in range(len(data)):\n",
    "        selected_text_found=False\n",
    "        selected_text_first_word=data.selected_text[i].split()[0]\n",
    "        text_list=data.text[i].split()\n",
    "        first_word_indices=np.where(selected_text_first_word == np.array(text_list))\n",
    "            \n",
    "        for j in first_word_indices[0]:\n",
    "            selected=None\n",
    "            start_index=j\n",
    "            end_index=j+len(data.selected_text[i].split())-1\n",
    "            selected_correct=data.text[i].split()[start_index:end_index+1]\n",
    "            input_selected_split=data.selected_text[i].split()\n",
    "            \n",
    "            if np.array_equal(np.array(input_selected_split),np.array(selected_correct)):\n",
    "                selected_text_found=True\n",
    "                break  \n",
    "                \n",
    "        if (not selected_text_found):\n",
    "            incorrect_rows.append(i)\n",
    "            incorrect_selected_Text_counter+=1\n",
    "    \n",
    "    return incorrect_selected_Text_counter,incorrect_rows"
   ]
  },
  {
   "cell_type": "code",
   "execution_count": 7,
   "metadata": {},
   "outputs": [
    {
     "name": "stdout",
     "output_type": "stream",
     "text": [
      "null text: 1\n",
      "null selected text: 1\n",
      "null sentiment: 0\n",
      "number of tweets: 27481\n",
      "new number of tweets: 27480\n",
      "incorrect selected text: 2931\n",
      "null text: 0\n",
      "null sentiment: 0\n",
      "number of tweets: 3534\n"
     ]
    }
   ],
   "source": [
    "incorrect_selected_text=preprocess_data(train)\n",
    "preprocess_data(test)\n",
    "\n",
    "text_sentiment_train=[(train.text[i]+\" \"+train.sentiment[i]) for i in range(len(train))]\n",
    "text_sentiment_test=[(test.text[i]+\" \"+test.sentiment[i]) for i in range(len(test))]"
   ]
  },
  {
   "cell_type": "code",
   "execution_count": 8,
   "metadata": {},
   "outputs": [
    {
     "name": "stdout",
     "output_type": "stream",
     "text": [
      "[2, 18, 27, 32, 39, 48, 49, 60, 64, 66, 84, 86, 92, 102, 116, 129, 132, 134, 149, 160, 166, 168, 189, 196, 197, 204, 210, 223, 240, 247, 251, 260, 285, 295, 296, 297, 309, 315, 342, 348, 361, 365, 381, 395, 397, 405, 409, 424, 457, 481, 491, 497, 499, 503, 512, 516, 532, 536, 541, 542, 568, 572, 580, 603, 604, 607, 635, 636, 638, 641, 664, 669, 673, 677, 684, 701, 706, 708, 709, 726, 736, 745, 750, 756, 767, 777, 786, 793, 803, 808, 845, 852, 853, 855, 862, 865, 870, 871, 899, 911, 930, 936, 941, 949, 955, 956, 962, 991, 992, 998, 1000, 1010, 1011, 1035, 1038, 1056, 1059, 1061, 1071, 1072, 1075, 1076, 1082, 1095, 1104, 1115, 1116, 1121, 1133, 1136, 1149, 1156, 1158, 1180, 1191, 1198, 1199, 1208, 1216, 1244, 1263, 1270, 1279, 1282, 1297, 1299, 1302, 1318, 1326, 1341, 1359, 1362, 1364, 1371, 1373, 1375, 1381, 1392, 1405, 1415, 1416, 1419, 1446, 1453, 1467, 1471, 1512, 1514, 1517, 1530, 1547, 1557, 1566, 1579, 1587, 1599, 1604, 1622, 1647, 1648, 1656, 1658, 1660, 1664, 1670, 1671, 1672, 1673, 1677, 1682, 1692, 1695, 1700, 1712, 1722, 1727, 1731, 1738, 1746, 1753, 1757, 1797, 1805, 1807, 1813, 1821, 1827, 1829, 1834, 1849, 1856, 1859, 1865, 1871, 1876, 1887, 1900, 1901, 1928, 1937, 1939, 1958, 1984, 1986, 1993, 2002, 2003, 2007, 2010, 2022, 2053, 2055, 2064, 2067, 2082, 2085, 2093, 2105, 2112, 2123, 2124, 2135, 2138, 2144, 2167, 2179, 2180, 2186, 2209, 2212, 2224, 2226, 2229, 2238, 2246, 2272, 2278, 2285, 2287, 2297, 2322, 2323, 2334, 2342, 2358, 2363, 2370, 2384, 2387, 2391, 2397, 2400, 2403, 2409, 2414, 2420, 2425, 2429, 2437, 2438, 2439, 2443, 2444, 2447, 2465, 2468, 2469, 2477, 2488, 2498, 2504, 2514, 2519, 2558, 2568, 2569, 2573, 2575, 2577, 2588, 2597, 2599, 2624, 2625, 2639, 2642, 2649, 2670, 2678, 2695, 2698, 2705, 2715, 2717, 2730, 2742, 2748, 2749, 2784, 2786, 2788, 2789, 2804, 2808, 2824, 2831, 2837, 2855, 2887, 2897, 2902, 2922, 2924, 2930, 2932, 2941, 2956, 2960, 2985, 2994, 3018, 3033, 3035, 3036, 3067, 3071, 3074, 3076, 3079, 3087, 3088, 3095, 3096, 3100, 3120, 3141, 3146, 3159, 3160, 3175, 3181, 3186, 3210, 3221, 3224, 3233, 3256, 3258, 3262, 3266, 3280, 3289, 3294, 3316, 3318, 3324, 3332, 3358, 3362, 3363, 3368, 3373, 3389, 3398, 3399, 3410, 3423, 3440, 3472, 3474, 3475, 3478, 3491, 3498, 3503, 3508, 3516, 3518, 3531, 3552, 3572, 3577, 3587, 3589, 3592, 3597, 3604, 3605, 3606, 3621, 3633, 3668, 3671, 3677, 3681, 3684, 3693, 3697, 3707, 3719, 3723, 3728, 3749, 3754, 3783, 3793, 3797, 3800, 3805, 3806, 3812, 3825, 3833, 3871, 3885, 3894, 3902, 3924, 3936, 3945, 3961, 3968, 3985, 3997, 4024, 4030, 4046, 4052, 4073, 4090, 4092, 4099, 4106, 4107, 4112, 4118, 4141, 4142, 4147, 4162, 4163, 4182, 4195, 4230, 4248, 4253, 4259, 4264, 4306, 4307, 4308, 4311, 4317, 4324, 4326, 4327, 4328, 4343, 4346, 4368, 4370, 4376, 4383, 4401, 4403, 4404, 4406, 4411, 4420, 4421, 4436, 4454, 4456, 4470, 4472, 4478, 4482, 4485, 4513, 4531, 4536, 4541, 4542, 4544, 4549, 4553, 4562, 4574, 4575, 4590, 4594, 4630, 4635, 4636, 4638, 4653, 4654, 4683, 4698, 4703, 4705, 4713, 4717, 4723, 4728, 4734, 4746, 4748, 4749, 4752, 4763, 4799, 4813, 4840, 4841, 4843, 4863, 4865, 4868, 4874, 4890, 4907, 4917, 4923, 4927, 4932, 4942, 4945, 4946, 4955, 4959, 4967, 4979, 4993, 5008, 5010, 5011, 5037, 5055, 5078, 5082, 5100, 5132, 5152, 5162, 5166, 5172, 5173, 5187, 5188, 5195, 5196, 5204, 5212, 5217, 5228, 5240, 5244, 5257, 5278, 5289, 5293, 5296, 5307, 5316, 5330, 5341, 5342, 5352, 5354, 5355, 5357, 5360, 5378, 5384, 5385, 5398, 5405, 5417, 5430, 5432, 5435, 5449, 5455, 5465, 5466, 5488, 5490, 5503, 5508, 5509, 5521, 5529, 5541, 5542, 5554, 5559, 5569, 5576, 5582, 5602, 5606, 5617, 5619, 5623, 5625, 5677, 5680, 5686, 5696, 5711, 5724, 5750, 5756, 5774, 5784, 5798, 5803, 5821, 5831, 5835, 5843, 5863, 5879, 5894, 5901, 5903, 5912, 5917, 5937, 5938, 5960, 5981, 5983, 5989, 5996, 6024, 6030, 6032, 6059, 6076, 6083, 6089, 6091, 6112, 6130, 6133, 6143, 6150, 6151, 6158, 6175, 6202, 6228, 6229, 6247, 6260, 6276, 6281, 6288, 6295, 6303, 6307, 6316, 6318, 6320, 6334, 6337, 6342, 6352, 6355, 6359, 6376, 6381, 6394, 6403, 6424, 6432, 6436, 6467, 6473, 6474, 6475, 6476, 6504, 6509, 6527, 6530, 6539, 6573, 6579, 6581, 6592, 6608, 6626, 6627, 6632, 6634, 6649, 6655, 6656, 6669, 6672, 6675, 6676, 6678, 6685, 6701, 6723, 6739, 6744, 6758, 6800, 6803, 6821, 6828, 6829, 6831, 6832, 6833, 6841, 6858, 6870, 6874, 6877, 6879, 6884, 6895, 6933, 6938, 6947, 6949, 6957, 6969, 6977, 6978, 6986, 7009, 7016, 7023, 7039, 7098, 7106, 7107, 7111, 7135, 7146, 7148, 7157, 7183, 7224, 7226, 7250, 7251, 7271, 7273, 7284, 7287, 7300, 7304, 7305, 7307, 7320, 7330, 7343, 7354, 7372, 7406, 7407, 7408, 7409, 7422, 7435, 7437, 7441, 7443, 7449, 7468, 7472, 7478, 7486, 7491, 7497, 7505, 7512, 7520, 7527, 7529, 7545, 7566, 7580, 7581, 7596, 7598, 7601, 7631, 7634, 7635, 7641, 7661, 7662, 7700, 7751, 7757, 7764, 7768, 7777, 7779, 7787, 7800, 7815, 7817, 7830, 7835, 7836, 7848, 7892, 7894, 7895, 7921, 7926, 7944, 7947, 7967, 7996, 8002, 8004, 8009, 8029, 8048, 8050, 8051, 8058, 8059, 8077, 8084, 8093, 8141, 8142, 8150, 8152, 8153, 8160, 8161, 8168, 8169, 8170, 8176, 8179, 8195, 8207, 8211, 8214, 8223, 8234, 8240, 8248, 8249, 8274, 8275, 8281, 8284, 8285, 8287, 8288, 8298, 8313, 8337, 8342, 8344, 8348, 8372, 8378, 8389, 8396, 8398, 8406, 8409, 8426, 8427, 8431, 8436, 8438, 8439, 8441, 8443, 8483, 8489, 8492, 8496, 8499, 8506, 8509, 8533, 8545, 8558, 8568, 8578, 8587, 8593, 8603, 8616, 8619, 8623, 8630, 8637, 8660, 8670, 8673, 8675, 8686, 8690, 8695, 8702, 8705, 8719, 8728, 8748, 8755, 8757, 8768, 8769, 8773, 8779, 8799, 8802, 8807, 8808, 8814, 8826, 8829, 8858, 8874, 8901, 8905, 8909, 8916, 8918, 8921, 8950, 8953, 8955, 8967, 8971, 8984, 8985, 8990, 8998, 9013, 9033, 9049, 9056, 9059, 9062, 9069, 9071, 9087, 9097, 9111, 9112, 9121, 9126, 9139, 9154, 9156, 9168, 9178, 9189, 9215, 9222, 9225, 9263, 9271, 9280, 9282, 9296, 9299, 9302, 9321, 9353, 9355, 9360, 9373, 9376, 9380, 9384, 9399, 9402, 9418, 9421, 9424, 9427, 9435, 9441, 9448, 9453, 9455, 9457, 9469, 9481, 9495, 9496, 9499, 9534, 9538, 9540, 9553, 9555, 9559, 9564, 9573, 9593, 9604, 9607, 9609, 9630, 9631, 9659, 9688, 9690, 9695, 9707, 9709, 9711, 9724, 9725, 9733, 9741, 9752, 9769, 9788, 9797, 9798, 9800, 9811, 9816, 9835, 9838, 9849, 9851, 9880, 9881, 9890, 9905, 9911, 9919, 9921, 9927, 9971, 9975, 9979, 9983, 10001, 10003, 10006, 10028, 10038, 10041, 10049, 10051, 10056, 10066, 10069, 10091, 10092, 10122, 10130, 10137, 10144, 10150, 10163, 10166, 10169, 10178, 10183, 10184, 10189, 10196, 10199, 10210, 10217, 10218, 10221, 10227, 10244, 10246, 10252, 10254, 10258, 10275, 10281, 10292, 10297, 10298, 10305, 10318, 10326, 10341, 10347, 10367, 10376, 10378, 10410, 10448, 10464, 10468, 10491, 10503, 10504, 10507, 10520, 10527, 10528, 10529, 10569, 10572, 10576, 10577, 10596, 10610, 10618, 10638, 10650, 10665, 10671, 10674, 10676, 10689, 10705, 10710, 10737, 10741, 10746, 10748, 10778, 10781, 10782, 10785, 10794, 10812, 10817, 10848, 10851, 10852, 10866, 10883, 10884, 10887, 10891, 10900, 10912, 10913, 10917, 10918, 10932, 10934, 10955, 10965, 10967, 10969, 10980, 10985, 10995, 10998, 11004, 11028, 11031, 11037, 11050, 11054, 11055, 11059, 11066, 11077, 11096, 11101, 11154, 11156, 11158, 11161, 11166, 11175, 11186, 11214, 11221, 11227, 11229, 11256, 11262, 11264, 11273, 11285, 11288, 11296, 11299, 11307, 11322, 11336, 11338, 11340, 11346, 11348, 11352, 11370, 11380, 11385, 11398, 11424, 11425, 11430, 11447, 11448, 11473, 11479, 11499, 11506, 11513, 11542, 11552, 11561, 11562, 11581, 11587, 11593, 11611, 11615, 11617, 11635, 11642, 11644, 11649, 11657, 11665, 11678, 11682, 11692, 11694, 11697, 11698, 11705, 11711, 11715, 11722, 11729, 11731, 11740, 11744, 11751, 11758, 11779, 11793, 11797, 11807, 11811, 11827, 11828, 11836, 11839, 11840, 11843, 11848, 11852, 11853, 11854, 11860, 11861, 11871, 11874, 11877, 11885, 11889, 11891, 11898, 11904, 11911, 11937, 11958, 11962, 11966, 11972, 11979, 11984, 11998, 12025, 12026, 12028, 12038, 12053, 12056, 12066, 12114, 12123, 12133, 12135, 12137, 12149, 12185, 12186, 12204, 12205, 12223, 12241, 12257, 12268, 12276, 12282, 12294, 12304, 12313, 12321, 12330, 12332, 12333, 12349, 12354, 12355, 12359, 12369, 12371, 12388, 12394, 12395, 12396, 12404, 12409, 12415, 12428, 12438, 12439, 12441, 12445, 12446, 12473, 12481, 12485, 12506, 12509, 12515, 12520, 12521, 12525, 12526, 12536, 12549, 12562, 12570, 12575, 12584, 12585, 12586, 12596, 12597, 12605, 12629, 12630, 12634, 12638, 12649, 12656, 12657, 12661, 12662, 12668, 12686, 12702, 12717, 12723, 12731, 12735, 12744, 12766, 12786, 12802, 12803, 12807, 12817, 12829, 12842, 12854, 12855, 12869, 12883, 12902, 12913, 12919, 12922, 12923, 12926, 12935, 12949, 12971, 12976, 12997, 13002, 13003, 13008, 13043, 13067, 13068, 13073, 13079, 13094, 13097, 13111, 13123, 13129, 13152, 13153, 13175, 13218, 13221, 13226, 13236, 13266, 13273, 13292, 13300, 13303, 13304, 13306, 13316, 13329, 13332, 13334, 13353, 13364, 13372, 13378, 13380, 13388, 13396, 13421, 13429, 13432, 13444, 13465, 13472, 13475, 13481, 13489, 13492, 13517, 13527, 13528, 13534, 13542, 13557, 13558, 13585, 13604, 13617, 13625, 13634, 13636, 13642, 13645, 13661, 13664, 13673, 13677, 13678, 13700, 13703, 13706, 13709, 13717, 13726, 13732, 13746, 13761, 13771, 13784, 13795, 13802, 13811, 13813, 13816, 13826, 13843, 13845, 13846, 13847, 13853, 13854, 13860, 13863, 13872, 13898, 13906, 13925, 13935, 13938, 13945, 13948, 13953, 13963, 13964, 13973, 13974, 13977, 13979, 14001, 14005, 14006, 14029, 14042, 14043, 14056, 14057, 14059, 14072, 14090, 14108, 14109, 14111, 14116, 14130, 14131, 14158, 14171, 14172, 14175, 14183, 14192, 14193, 14196, 14199, 14203, 14206, 14212, 14229, 14256, 14272, 14274, 14286, 14298, 14300, 14306, 14307, 14346, 14361, 14364, 14367, 14380, 14385, 14399, 14415, 14427, 14435, 14445, 14456, 14457, 14461, 14475, 14486, 14498, 14508, 14531, 14547, 14550, 14570, 14595, 14597, 14610, 14620, 14629, 14638, 14639, 14647, 14661, 14665, 14668, 14670, 14675, 14679, 14686, 14688, 14690, 14707, 14717, 14730, 14746, 14778, 14786, 14824, 14838, 14843, 14846, 14854, 14869, 14879, 14890, 14907, 14945, 14958, 14959, 14966, 14970, 14985, 15006, 15009, 15015, 15043, 15048, 15054, 15055, 15098, 15111, 15128, 15130, 15137, 15156, 15157, 15164, 15173, 15176, 15195, 15202, 15205, 15206, 15212, 15216, 15232, 15235, 15239, 15252, 15258, 15285, 15295, 15297, 15306, 15307, 15320, 15322, 15326, 15338, 15362, 15371, 15373, 15378, 15379, 15382, 15384, 15391, 15409, 15448, 15451, 15461, 15463, 15464, 15469, 15476, 15482, 15502, 15504, 15527, 15531, 15547, 15561, 15565, 15570, 15604, 15607, 15609, 15621, 15650, 15659, 15665, 15673, 15708, 15720, 15730, 15734, 15735, 15740, 15766, 15767, 15773, 15784, 15791, 15792, 15810, 15850, 15878, 15882, 15883, 15911, 15925, 15926, 15930, 15939, 15958, 15964, 15984, 15987, 15997, 16019, 16030, 16031, 16043, 16069, 16099, 16116, 16128, 16135, 16136, 16139, 16148, 16151, 16166, 16174, 16185, 16200, 16240, 16260, 16268, 16271, 16278, 16289, 16307, 16318, 16323, 16324, 16326, 16337, 16340, 16344, 16351, 16353, 16354, 16356, 16370, 16371, 16384, 16386, 16390, 16415, 16422, 16447, 16454, 16467, 16469, 16476, 16480, 16483, 16490, 16492, 16493, 16499, 16508, 16509, 16515, 16540, 16558, 16569, 16576, 16588, 16631, 16637, 16641, 16642, 16648, 16649, 16653, 16664, 16666, 16676, 16683, 16703, 16716, 16719, 16725, 16733, 16764, 16773, 16774, 16776, 16779, 16796, 16797, 16798, 16802, 16806, 16808, 16829, 16831, 16860, 16862, 16864, 16867, 16875, 16888, 16889, 16901, 16914, 16926, 16938, 16948, 16961, 16967, 17001, 17009, 17012, 17020, 17022, 17028, 17053, 17061, 17065, 17066, 17083, 17092, 17093, 17101, 17116, 17151, 17159, 17166, 17172, 17178, 17182, 17186, 17220, 17238, 17249, 17265, 17266, 17276, 17277, 17281, 17295, 17306, 17314, 17332, 17335, 17343, 17345, 17347, 17353, 17364, 17372, 17373, 17384, 17386, 17396, 17400, 17403, 17411, 17416, 17431, 17435, 17437, 17443, 17451, 17466, 17468, 17497, 17500, 17501, 17512, 17529, 17530, 17546, 17549, 17554, 17572, 17576, 17577, 17585, 17599, 17601, 17610, 17626, 17635, 17639, 17644, 17647, 17648, 17651, 17666, 17675, 17681, 17720, 17723, 17728, 17730, 17750, 17753, 17761, 17769, 17771, 17780, 17801, 17819, 17822, 17832, 17847, 17856, 17857, 17864, 17866, 17875, 17886, 17892, 17908, 17923, 17925, 17944, 17970, 17976, 17985, 17989, 17990, 17991, 17997, 18002, 18010, 18041, 18045, 18051, 18076, 18085, 18090, 18098, 18102, 18122, 18127, 18130, 18138, 18141, 18152, 18164, 18166, 18172, 18180, 18205, 18225, 18251, 18262, 18264, 18275, 18276, 18283, 18313, 18318, 18326, 18329, 18341, 18351, 18354, 18361, 18363, 18374, 18382, 18396, 18397, 18402, 18420, 18431, 18446, 18452, 18464, 18466, 18484, 18485, 18491, 18498, 18504, 18507, 18509, 18514, 18535, 18539, 18547, 18549, 18556, 18562, 18569, 18573, 18575, 18615, 18621, 18626, 18638, 18648, 18654, 18672, 18680, 18711, 18744, 18745, 18757, 18772, 18777, 18781, 18810, 18825, 18831, 18832, 18833, 18841, 18850, 18852, 18857, 18861, 18866, 18871, 18876, 18907, 18909, 18911, 18912, 18918, 18924, 18928, 18929, 18932, 18935, 18943, 18973, 18974, 18975, 18996, 19008, 19010, 19013, 19015, 19027, 19037, 19056, 19083, 19097, 19105, 19113, 19129, 19132, 19146, 19156, 19161, 19165, 19172, 19178, 19197, 19212, 19224, 19229, 19238, 19240, 19265, 19273, 19277, 19278, 19282, 19284, 19315, 19325, 19326, 19334, 19351, 19357, 19361, 19365, 19371, 19376, 19378, 19404, 19421, 19422, 19427, 19429, 19430, 19436, 19443, 19455, 19468, 19474, 19475, 19480, 19485, 19491, 19505, 19506, 19535, 19536, 19561, 19585, 19586, 19588, 19598, 19621, 19633, 19650, 19662, 19669, 19678, 19684, 19689, 19696, 19706, 19711, 19713, 19714, 19716, 19723, 19733, 19743, 19753, 19768, 19778, 19791, 19797, 19806, 19817, 19829, 19849, 19862, 19874, 19875, 19902, 19903, 19907, 19962, 19984, 19987, 20002, 20011, 20013, 20017, 20039, 20041, 20053, 20054, 20077, 20078, 20082, 20086, 20088, 20113, 20120, 20121, 20137, 20154, 20161, 20185, 20198, 20215, 20221, 20233, 20237, 20253, 20284, 20298, 20301, 20304, 20307, 20336, 20344, 20363, 20364, 20370, 20373, 20381, 20393, 20402, 20439, 20449, 20450, 20475, 20505, 20507, 20515, 20526, 20535, 20540, 20541, 20556, 20565, 20583, 20607, 20610, 20612, 20617, 20626, 20643, 20655, 20662, 20673, 20681, 20689, 20698, 20706, 20710, 20736, 20738, 20750, 20764, 20770, 20773, 20777, 20778, 20788, 20794, 20797, 20807, 20813, 20833, 20849, 20850, 20864, 20866, 20868, 20871, 20876, 20882, 20891, 20893, 20894, 20895, 20900, 20918, 20923, 20932, 20934, 20936, 20937, 20945, 20946, 20954, 20956, 20957, 20964, 20965, 20969, 20973, 20990, 21000, 21012, 21017, 21019, 21024, 21113, 21141, 21176, 21204, 21209, 21226, 21229, 21235, 21252, 21261, 21293, 21299, 21300, 21315, 21330, 21338, 21348, 21355, 21364, 21368, 21375, 21398, 21409, 21412, 21417, 21419, 21427, 21434, 21446, 21451, 21454, 21467, 21469, 21473, 21485, 21494, 21500, 21516, 21529, 21533, 21538, 21545, 21546, 21552, 21555, 21563, 21568, 21578, 21592, 21594, 21598, 21602, 21631, 21642, 21689, 21712, 21725, 21731, 21736, 21737, 21743, 21754, 21772, 21781, 21799, 21806, 21828, 21838, 21847, 21861, 21874, 21875, 21892, 21914, 21922, 21925, 21930, 21957, 21966, 21969, 21972, 21981, 22001, 22028, 22030, 22033, 22034, 22043, 22050, 22067, 22072, 22098, 22116, 22120, 22125, 22128, 22144, 22145, 22148, 22160, 22165, 22169, 22176, 22184, 22204, 22209, 22230, 22232, 22233, 22243, 22245, 22250, 22271, 22279, 22298, 22302, 22316, 22320, 22326, 22349, 22353, 22354, 22362, 22364, 22373, 22377, 22382, 22386, 22390, 22392, 22394, 22402, 22405, 22422, 22427, 22436, 22443, 22450, 22452, 22479, 22490, 22509, 22526, 22529, 22535, 22553, 22556, 22560, 22561, 22563, 22570, 22587, 22592, 22595, 22605, 22606, 22609, 22610, 22641, 22665, 22683, 22716, 22728, 22737, 22743, 22744, 22762, 22767, 22768, 22769, 22773, 22781, 22788, 22795, 22799, 22835, 22840, 22842, 22857, 22863, 22885, 22888, 22896, 22924, 22927, 22937, 22943, 22944, 22947, 22949, 22955, 22982, 22985, 22987, 22992, 22993, 22996, 23027, 23029, 23038, 23046, 23069, 23080, 23090, 23096, 23104, 23107, 23110, 23112, 23132, 23144, 23149, 23160, 23171, 23175, 23198, 23199, 23201, 23203, 23204, 23210, 23211, 23213, 23225, 23226, 23230, 23235, 23238, 23262, 23263, 23264, 23265, 23268, 23289, 23310, 23314, 23319, 23322, 23335, 23339, 23351, 23360, 23371, 23374, 23375, 23380, 23385, 23389, 23400, 23414, 23417, 23427, 23428, 23452, 23466, 23478, 23504, 23506, 23507, 23526, 23527, 23534, 23536, 23540, 23541, 23552, 23554, 23556, 23558, 23562, 23565, 23580, 23584, 23595, 23597, 23603, 23604, 23610, 23616, 23629, 23634, 23637, 23642, 23657, 23668, 23672, 23679, 23682, 23689, 23690, 23700, 23706, 23713, 23719, 23724, 23732, 23745, 23749, 23750, 23768, 23773, 23783, 23808, 23817, 23830, 23838, 23841, 23856, 23896, 23923, 23929, 23943, 23944, 23946, 23958, 23970, 23974, 23986, 23988, 24001, 24002, 24008, 24018, 24025, 24035, 24038, 24040, 24045, 24061, 24068, 24070, 24076, 24078, 24086, 24095, 24118, 24120, 24122, 24136, 24149, 24161, 24168, 24180, 24193, 24194, 24196, 24198, 24199, 24202, 24207, 24209, 24222, 24235, 24257, 24271, 24273, 24290, 24292, 24299, 24304, 24317, 24338, 24377, 24379, 24382, 24391, 24401, 24441, 24467, 24475, 24479, 24487, 24489, 24494, 24501, 24503, 24504, 24505, 24515, 24561, 24571, 24593, 24594, 24596, 24599, 24601, 24605, 24608, 24621, 24622, 24628, 24630, 24631, 24632, 24656, 24661, 24663, 24665, 24681, 24696, 24708, 24745, 24752, 24757, 24765, 24777, 24808, 24832, 24837, 24839, 24850, 24857, 24868, 24885, 24908, 24914, 24915, 24928, 24934, 24944, 24950, 24965, 24971, 24979, 24995, 25011, 25016, 25022, 25042, 25058, 25066, 25103, 25120, 25124, 25126, 25132, 25149, 25190, 25209, 25221, 25223, 25227, 25239, 25242, 25254, 25257, 25263, 25266, 25271, 25281, 25283, 25289, 25291, 25292, 25333, 25337, 25338, 25348, 25349, 25364, 25367, 25372, 25379, 25386, 25388, 25390, 25399, 25412, 25421, 25439, 25443, 25445, 25455, 25459, 25471, 25485, 25494, 25498, 25502, 25508, 25511, 25527, 25529, 25531, 25546, 25558, 25585, 25590, 25592, 25596, 25600, 25613, 25615, 25637, 25642, 25671, 25690, 25697, 25705, 25708, 25711, 25712, 25720, 25721, 25724, 25731, 25752, 25759, 25774, 25793, 25812, 25818, 25827, 25832, 25852, 25900, 25902, 25907, 25946, 25947, 25982, 25986, 25988, 25995, 25997, 26007, 26016, 26024, 26029, 26038, 26046, 26053, 26057, 26076, 26087, 26091, 26111, 26141, 26160, 26182, 26184, 26189, 26200, 26203, 26211, 26229, 26236, 26238, 26240, 26247, 26250, 26251, 26252, 26255, 26262, 26267, 26268, 26281, 26293, 26313, 26330, 26345, 26357, 26359, 26363, 26376, 26401, 26425, 26427, 26428, 26433, 26440, 26453, 26459, 26480, 26484, 26496, 26499, 26507, 26531, 26532, 26537, 26560, 26566, 26584, 26587, 26594, 26595, 26609, 26617, 26624, 26632, 26642, 26650, 26676, 26686, 26714, 26720, 26731, 26732, 26745, 26759, 26761, 26768, 26778, 26780, 26815, 26821, 26827, 26829, 26869, 26881, 26882, 26888, 26891, 26893, 26913, 26926, 26931, 26943, 26952, 26956, 26962, 26966, 26972, 26975, 26977, 26984, 27029, 27037, 27043, 27047, 27051, 27066, 27110, 27114, 27120, 27141, 27143, 27152, 27166, 27177, 27182, 27204, 27208, 27216, 27217, 27228, 27229, 27232, 27239, 27249, 27279, 27301, 27331, 27338, 27348, 27361, 27375, 27385, 27395, 27400, 27412, 27425, 27428, 27455, 27469, 27473, 27475, 27476, 27479]\n"
     ]
    }
   ],
   "source": [
    "print(incorrect_selected_text)"
   ]
  },
  {
   "cell_type": "code",
   "execution_count": 9,
   "metadata": {},
   "outputs": [
    {
     "data": {
      "text/plain": [
       "' Sooo SAD I will miss you here in San Diego!!! negative'"
      ]
     },
     "execution_count": 9,
     "metadata": {},
     "output_type": "execute_result"
    }
   ],
   "source": [
    "text_sentiment_train[1]"
   ]
  },
  {
   "cell_type": "code",
   "execution_count": 10,
   "metadata": {},
   "outputs": [],
   "source": [
    "max_word_dict = len(words.words())\n",
    "my_dictionary=rand.sample(words.words(),max_word_dict)\n",
    "\n",
    "tokenizer = Tokenizer(num_words=max_word_dict, lower=True, oov_token=\"<UKN>\",filters='\\t\\n')\n",
    "tokenizer.fit_on_texts(list(my_dictionary))\n",
    "tokenized_tweets_train = tokenizer.texts_to_sequences(text_sentiment_train)\n",
    "tokenized_tweets_test = tokenizer.texts_to_sequences(text_sentiment_test)\n",
    "tokenized_selected_text_train = tokenizer.texts_to_sequences(train.selected_text)\n",
    "\n",
    "#tokenizer.word_counts\n",
    "#tokenizer.word_index"
   ]
  },
  {
   "cell_type": "code",
   "execution_count": 11,
   "metadata": {},
   "outputs": [
    {
     "data": {
      "image/png": "[encoded data removed]",
      "text/plain": [
       "<Figure size 432x288 with 1 Axes>"
      ]
     },
     "metadata": {
      "needs_background": "light"
     },
     "output_type": "display_data"
    }
   ],
   "source": [
    "totalNumWords = [len(one_tweet) for one_tweet in tokenized_tweets_train]\n",
    "plt.hist(totalNumWords,bins = np.arange(0,35,1))\n",
    "plt.show()"
   ]
  },
  {
   "cell_type": "code",
   "execution_count": 12,
   "metadata": {},
   "outputs": [
    {
     "data": {
      "image/png": "[encoded data removed]",
      "text/plain": [
       "<Figure size 432x288 with 1 Axes>"
      ]
     },
     "metadata": {
      "needs_background": "light"
     },
     "output_type": "display_data"
    }
   ],
   "source": [
    "totalNumWords_test = [len(one_tweet) for one_tweet in tokenized_tweets_test]\n",
    "plt.hist(totalNumWords_test,bins = np.arange(0,35,1))\n",
    "plt.show()"
   ]
  },
  {
   "cell_type": "code",
   "execution_count": 13,
   "metadata": {},
   "outputs": [],
   "source": [
    "max_tweet_length = 36\n",
    "x_train = pad_sequences(tokenized_tweets_train, maxlen=max_tweet_length)\n",
    "x_test = pad_sequences(tokenized_tweets_test, maxlen=max_tweet_length)"
   ]
  },
  {
   "cell_type": "code",
   "execution_count": 14,
   "metadata": {},
   "outputs": [],
   "source": [
    "y_train=[]\n",
    "for i in range(len(x_train)):\n",
    "    selected_text_array=np.array(tokenized_selected_text_train[i])\n",
    "    first_word_indices=np.where(x_train[i]==selected_text_array[0])\n",
    "    first_word_indices=np.array(first_word_indices)\n",
    "    for j in first_word_indices[0]:\n",
    "        start_index=j\n",
    "        end_index=j+np.max(np.shape(selected_text_array))-1\n",
    "        x_train_sub_array=x_train[i][start_index:end_index+1]\n",
    "        if np.array_equal(x_train_sub_array,selected_text_array):\n",
    "            break\n",
    "    selected_text=np.zeros(max_tweet_length)\n",
    "    selected_text[start_index:end_index+1]=1\n",
    "    y_train.append(selected_text)\n",
    "y_train=np.array(y_train)    "
   ]
  },
  {
   "cell_type": "code",
   "execution_count": 15,
   "metadata": {},
   "outputs": [],
   "source": [
    "def get_selected_text(x,y,data_text,tokenizer):\n",
    "    incorrect_selected_text=[]\n",
    "    selected_text_output=[]\n",
    "    all_selected=[]\n",
    "    reverse_tokenizer=dict(map(reversed,tokenizer.word_index.items()))\n",
    "    data_text_lower=[item.lower() for item in data_text]\n",
    "    for i in range(len(data_text)):\n",
    "        found_correct_selected=False\n",
    "        sentiment_indices=np.where(y[i]==1)\n",
    "        if len(sentiment_indices[0])==0:\n",
    "            incorrect_selected_text.append(i)\n",
    "            all_selected.append(\"<<<empty prediction>>>\")\n",
    "            continue    \n",
    "            \n",
    "        #print(i)    \n",
    "            \n",
    "        start_index=sentiment_indices[0][0]\n",
    "        end_index=sentiment_indices[0][-1]\n",
    "        selected_text_tokens=x[i][start_index:end_index+1]\n",
    "        selected_text_words=[reverse_tokenizer.get(index) for index in selected_text_tokens]\n",
    "        \n",
    "        has_none=False\n",
    "        for word in selected_text_words:\n",
    "            if word is None:\n",
    "                has_none=True\n",
    "                break              \n",
    "        if has_none==True:\n",
    "            incorrect_selected_text.append(i)\n",
    "            all_selected.append(\"<<<prediction has none>>\")\n",
    "            continue   \n",
    "                        \n",
    "        all_selected.append(\" \".join(selected_text_words))\n",
    "        \n",
    "        first_word_indices=np.where(selected_text_words[0]==np.array(data_text_lower[i].split()))\n",
    "        for j in first_word_indices[0]:\n",
    "            start_index=j\n",
    "            end_index=j+len(selected_text_words)-1\n",
    "            selected_trial=data_text_lower[i].split()[start_index:end_index+1]\n",
    "            \n",
    "            if np.array_equal(np.array(selected_trial),np.array(selected_text_words)):\n",
    "                found_correct_selected=True\n",
    "                correct_selected_text=data_text[i].split()[start_index:end_index+1]\n",
    "                correct_selected_text=\" \".join(correct_selected_text)\n",
    "                selected_text_output.append(correct_selected_text)\n",
    "                break\n",
    "                \n",
    "        if not found_correct_selected:\n",
    "            incorrect_selected_text.append(i)\n",
    "    print(\"incorrect selected text:\",len(incorrect_selected_text))\n",
    "    return selected_text_output,incorrect_selected_text, all_selected"
   ]
  },
  {
   "cell_type": "code",
   "execution_count": 16,
   "metadata": {},
   "outputs": [
    {
     "name": "stdout",
     "output_type": "stream",
     "text": [
      "incorrect selected text: 17974\n"
     ]
    }
   ],
   "source": [
    "y_correct,y_incorrect_indices,y_all=get_selected_text(x_train,y_train,train.text,tokenizer)"
   ]
  },
  {
   "cell_type": "code",
   "execution_count": 17,
   "metadata": {},
   "outputs": [
    {
     "name": "stdout",
     "output_type": "stream",
     "text": [
      "Model: \"model_1\"\n",
      "_________________________________________________________________\n",
      "Layer (type)                 Output Shape              Param #   \n",
      "=================================================================\n",
      "input_1 (InputLayer)         (None, 36)                0         \n",
      "_________________________________________________________________\n",
      "embedding_1 (Embedding)      (None, 36, 128)           30302208  \n",
      "_________________________________________________________________\n",
      "lstm_layer (LSTM)            (None, 36, 60)            45360     \n",
      "_________________________________________________________________\n",
      "global_max_pooling1d_1 (Glob (None, 60)                0         \n",
      "_________________________________________________________________\n",
      "dropout_1 (Dropout)          (None, 60)                0         \n",
      "_________________________________________________________________\n",
      "dense_1 (Dense)              (None, 50)                3050      \n",
      "_________________________________________________________________\n",
      "dropout_2 (Dropout)          (None, 50)                0         \n",
      "_________________________________________________________________\n",
      "dense_2 (Dense)              (None, 36)                1836      \n",
      "=================================================================\n",
      "Total params: 30,352,454\n",
      "Trainable params: 30,352,454\n",
      "Non-trainable params: 0\n",
      "_________________________________________________________________\n"
     ]
    }
   ],
   "source": [
    "embed_size = 128\n",
    "inp = Input(shape=(max_tweet_length,)) #max_tweet_length=36\n",
    "x = Embedding(max_word_dict, embed_size)(inp)\n",
    "x = LSTM(60, return_sequences=True,name='lstm_layer')(x)\n",
    "x = GlobalMaxPool1D()(x)\n",
    "x = Dropout(0.1)(x)\n",
    "x = Dense(50, activation=\"relu\")(x)\n",
    "x = Dropout(0.1)(x)\n",
    "x = Dense(max_tweet_length, activation=\"sigmoid\")(x)\n",
    "\n",
    "model = Model(inputs=inp, outputs=x)\n",
    "model.compile(loss='binary_crossentropy',\n",
    "                  optimizer='adam',\n",
    "                  metrics=['accuracy'])\n",
    "model.summary()"
   ]
  },
  {
   "cell_type": "code",
   "execution_count": 18,
   "metadata": {},
   "outputs": [
    {
     "name": "stderr",
     "output_type": "stream",
     "text": [
      "/opt/conda/lib/python3.7/site-packages/tensorflow/python/framework/indexed_slices.py:434: UserWarning: Converting sparse IndexedSlices to a dense Tensor of unknown shape. This may consume a large amount of memory.\n",
      "  \"Converting sparse IndexedSlices to a dense Tensor of unknown shape. \"\n"
     ]
    },
    {
     "name": "stdout",
     "output_type": "stream",
     "text": [
      "Train on 22094 samples, validate on 2455 samples\n",
      "Epoch 1/2\n",
      "22094/22094 [==============================] - 355s 16ms/step - loss: 0.2552 - accuracy: 0.8847 - val_loss: 0.1589 - val_accuracy: 0.9353\n",
      "Epoch 2/2\n",
      "22094/22094 [==============================] - 356s 16ms/step - loss: 0.1609 - accuracy: 0.9304 - val_loss: 0.1489 - val_accuracy: 0.9343\n"
     ]
    },
    {
     "data": {
      "text/plain": [
       "<keras.callbacks.callbacks.History at 0x7f02c32d4d10>"
      ]
     },
     "execution_count": 18,
     "metadata": {},
     "output_type": "execute_result"
    }
   ],
   "source": [
    "batch_size = 32\n",
    "epochs = 2\n",
    "## the inputs to the method fit() have to be arrays not lists\n",
    "model.fit(x_train,y_train, batch_size=batch_size, epochs=epochs, validation_split=0.1)"
   ]
  },
  {
   "cell_type": "code",
   "execution_count": 19,
   "metadata": {},
   "outputs": [],
   "source": [
    "y_test=model.predict(x_test)\n",
    "y_test=np.around(y_test)"
   ]
  },
  {
   "cell_type": "code",
   "execution_count": 20,
   "metadata": {},
   "outputs": [
    {
     "name": "stdout",
     "output_type": "stream",
     "text": [
      "incorrect selected text: 3148\n"
     ]
    }
   ],
   "source": [
    "y_test_correct,y_test_incorrect_indices,y_test_all=get_selected_text(x_test,y_test,test.text,tokenizer)"
   ]
  },
  {
   "cell_type": "code",
   "execution_count": 21,
   "metadata": {},
   "outputs": [],
   "source": [
    "test_data={\"textID\":test.textID,\n",
    "           \"text\":test.text,\n",
    "           \"selected_text\":y_test_all,\n",
    "           \"sentiment\":test.sentiment\n",
    "}\n",
    "test_csv=pd.DataFrame(test_data,columns=[\"textID\",\"text\",\"selected_text\",\"sentiment\"])\n",
    "test_csv.to_csv('trial.csv',index=False)"
   ]
  },
  {
   "cell_type": "code",
   "execution_count": 22,
   "metadata": {},
   "outputs": [],
   "source": [
    "submission_data={\"textID\":test.textID,\n",
    "           \"selected_text\":y_test_all,\n",
    "}\n",
    "test_csv=pd.DataFrame(submission_data,columns=[\"textID\",\"selected_text\"])\n",
    "test_csv.to_csv('submission.csv',index=False)"
   ]
  },
  {
   "cell_type": "code",
   "execution_count": null,
   "metadata": {},
   "outputs": [],
   "source": []
  }
 ],
 "metadata": {
  "kernelspec": {
   "display_name": "Python 3",
   "language": "python",
   "name": "python3"
  },
  "language_info": {
   "codemirror_mode": {
    "name": "ipython",
    "version": 3
   },
   "file_extension": ".py",
   "mimetype": "text/x-python",
   "name": "python",
   "nbconvert_exporter": "python",
   "pygments_lexer": "ipython3",
   "version": "3.7.6"
  }
 },
 "nbformat": 4,
 "nbformat_minor": 4
}
